{
 "cells": [
  {
   "cell_type": "code",
   "execution_count": 1,
   "metadata": {},
   "outputs": [],
   "source": [
    "import networkx as nx\n",
    "import random\n",
    "import itertools"
   ]
  },
  {
   "cell_type": "code",
   "execution_count": 2,
   "metadata": {},
   "outputs": [
    {
     "name": "stdout",
     "output_type": "stream",
     "text": [
      "1226\n",
      "<generator object selfloop_edges.<locals>.<genexpr> at 0x10acb91a8>\n"
     ]
    }
   ],
   "source": [
    "g = nx.read_edgelist(\"data/out.maayan-faa\",create_using=nx.DiGraph(), nodetype = int)\n",
    "# nx.info(g)\n",
    "# count the number of nodes\n",
    "print(g.number_of_nodes())\n",
    "# number of self-nodes\n",
    "print(g.selfloop_edges())"
   ]
  },
  {
   "cell_type": "code",
   "execution_count": 3,
   "metadata": {},
   "outputs": [
    {
     "name": "stdout",
     "output_type": "stream",
     "text": [
      "Name: \n",
      "Type: DiGraph\n",
      "Number of nodes: 1226\n",
      "Number of edges: 2615\n",
      "Average in degree:   2.1330\n",
      "Average out degree:   2.1330\n"
     ]
    }
   ],
   "source": [
    "print(nx.info(g))"
   ]
  },
  {
   "cell_type": "code",
   "execution_count": 45,
   "metadata": {},
   "outputs": [],
   "source": [
    "#flajolet -martin\n",
    "def trailing_zeroes(num):\n",
    "    if num == 0:\n",
    "        return 32 # Assumes 32 bit integer inputs!\n",
    "    p = 0\n",
    "    while (num >> p) & 1 == 0:\n",
    "        p += 1\n",
    "    return p\n",
    "\n",
    "def estimate_cardinality(values, k):\n",
    "    num_buckets = 2 ** k\n",
    "    max_zeroes = [0] * num_buckets\n",
    "    for value in values:\n",
    "        h = hash(value)\n",
    "        bucket = h & (num_buckets - 1) # Mask out the k least significant bits as bucket ID\n",
    "        bucket_hash = h >> k\n",
    "        max_zeroes[bucket] = max(max_zeroes[bucket], trailing_zeroes(bucket_hash))\n",
    "    return 2 ** (float(sum(max_zeroes)) / num_buckets) * num_buckets * 0.79402"
   ]
  },
  {
   "cell_type": "code",
   "execution_count": 54,
   "metadata": {},
   "outputs": [
    {
     "data": {
      "text/plain": [
       "2574.9580071735936"
      ]
     },
     "execution_count": 54,
     "metadata": {},
     "output_type": "execute_result"
    }
   ],
   "source": [
    "edges_flat = list(itertools.chain(*g.edges()))\n",
    "estimate_cardinality(g.edges(), 10)"
   ]
  },
  {
   "cell_type": "code",
   "execution_count": 36,
   "metadata": {},
   "outputs": [
    {
     "data": {
      "text/plain": [
       "5230"
      ]
     },
     "execution_count": 36,
     "metadata": {},
     "output_type": "execute_result"
    }
   ],
   "source": [
    "len(edges_flat)"
   ]
  },
  {
   "cell_type": "code",
   "execution_count": null,
   "metadata": {},
   "outputs": [],
   "source": []
  }
 ],
 "metadata": {
  "kernelspec": {
   "display_name": "Python 3",
   "language": "python",
   "name": "python3"
  },
  "language_info": {
   "codemirror_mode": {
    "name": "ipython",
    "version": 3
   },
   "file_extension": ".py",
   "mimetype": "text/x-python",
   "name": "python",
   "nbconvert_exporter": "python",
   "pygments_lexer": "ipython3",
   "version": "3.6.4"
  }
 },
 "nbformat": 4,
 "nbformat_minor": 2
}
