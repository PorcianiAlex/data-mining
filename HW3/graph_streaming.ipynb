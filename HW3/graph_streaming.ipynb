{
 "cells": [
  {
   "cell_type": "code",
   "execution_count": 1,
   "metadata": {},
   "outputs": [],
   "source": [
    "import networkx as nx\n",
    "import random\n",
    "import itertools"
   ]
  },
  {
   "cell_type": "code",
   "execution_count": 2,
   "metadata": {},
   "outputs": [
    {
     "name": "stdout",
     "output_type": "stream",
     "text": [
      "1226\n",
      "<generator object selfloop_edges.<locals>.<genexpr> at 0x10acb91a8>\n"
     ]
    }
   ],
   "source": [
    "g = nx.read_edgelist(\"data/out.maayan-faa\",create_using=nx.DiGraph(), nodetype = int)\n",
    "# nx.info(g)\n",
    "# count the number of nodes\n",
    "print(g.number_of_nodes())\n",
    "# number of self-nodes\n",
    "print(g.selfloop_edges())"
   ]
  },
  {
   "cell_type": "code",
   "execution_count": 3,
   "metadata": {},
   "outputs": [
    {
     "name": "stdout",
     "output_type": "stream",
     "text": [
      "Name: \n",
      "Type: DiGraph\n",
      "Number of nodes: 1226\n",
      "Number of edges: 2615\n",
      "Average in degree:   2.1330\n",
      "Average out degree:   2.1330\n"
     ]
    }
   ],
   "source": [
    "print(nx.info(g))"
   ]
  },
  {
   "cell_type": "code",
   "execution_count": 45,
   "metadata": {},
   "outputs": [],
   "source": [
    "#flajolet -martin\n",
    "def trailing_zeroes(num):\n",
    "    if num == 0:\n",
    "        return 32 # Assumes 32 bit integer inputs!\n",
    "    p = 0\n",
    "    while (num >> p) & 1 == 0:\n",
    "        p += 1\n",
    "    return p\n",
    "\n",
    "def estimate_cardinality(values, k):\n",
    "    num_buckets = 2 ** k\n",
    "    max_zeroes = [0] * num_buckets\n",
    "    for value in values:\n",
    "        h = hash(value)\n",
    "        bucket = h & (num_buckets - 1) # Mask out the k least significant bits as bucket ID\n",
    "        bucket_hash = h >> k\n",
    "        max_zeroes[bucket] = max(max_zeroes[bucket], trailing_zeroes(bucket_hash))\n",
    "    return 2 ** (float(sum(max_zeroes)) / num_buckets) * num_buckets * 0.79402"
   ]
  },
  {
   "cell_type": "code",
   "execution_count": 54,
   "metadata": {},
   "outputs": [
    {
     "data": {
      "text/plain": [
       "2574.9580071735936"
      ]
     },
     "execution_count": 54,
     "metadata": {},
     "output_type": "execute_result"
    }
   ],
   "source": [
    "edges_flat = list(itertools.chain(*g.edges()))\n",
    "estimate_cardinality(g.edges(), 10)"
   ]
  },
  {
   "cell_type": "code",
   "execution_count": 36,
   "metadata": {},
   "outputs": [
    {
     "data": {
      "text/plain": [
       "5230"
      ]
     },
     "execution_count": 36,
     "metadata": {},
     "output_type": "execute_result"
    }
   ],
   "source": [
    "len(edges_flat)"
   ]
  },
  {
   "cell_type": "code",
   "execution_count": 55,
   "metadata": {},
   "outputs": [
    {
     "ename": "SyntaxError",
     "evalue": "invalid syntax (<ipython-input-55-793b7c8d4528>, line 33)",
     "output_type": "error",
     "traceback": [
      "\u001b[0;36m  File \u001b[0;32m\"<ipython-input-55-793b7c8d4528>\"\u001b[0;36m, line \u001b[0;32m33\u001b[0m\n\u001b[0;31m    def update_counters(self,t,(u,v)):\u001b[0m\n\u001b[0m                               ^\u001b[0m\n\u001b[0;31mSyntaxError\u001b[0m\u001b[0;31m:\u001b[0m invalid syntax\n"
     ]
    }
   ],
   "source": [
    "from __future__ import division\n",
    "from edge_store import edgestore\n",
    "from collections import defaultdict\n",
    "import random\n",
    "import matplotlib.pyplot as plt\n",
    "\n",
    "\n",
    "class triest_impr:\n",
    "\n",
    "    #triest setup\n",
    "    def __init__(self,M):\n",
    "        self._M = M\n",
    "        self._S = edgestore()\n",
    "        self._global_T = 0\n",
    "        self._local_T = defaultdict(lambda:0)\n",
    "        self._debug = True\n",
    "\n",
    "    # Simulates flipping a coin\n",
    "    # Params: head_prob : probability of Heads\n",
    "    # Returns: if Heads return True else return False\n",
    "    def flip_coin(self,head_prob):\n",
    "        coin_toss = random.random()\n",
    "        if coin_toss < head_prob :\n",
    "            # print \"Head\"\n",
    "            return True\n",
    "        else:\n",
    "            # print \"Tail\"\n",
    "            return False\n",
    "\n",
    "\n",
    "    #Updates local and global counters\n",
    "    #Params:    t: timestamp,  (u,v): edge\n",
    "    def update_counters(self, t, (u,v)):\n",
    "        vertices = self._S.get_vertice_list()\n",
    "        if u not in vertices or v not in vertices:\n",
    "            return\n",
    "        neighbourhood_u = self._S.get_neighbours(u)\n",
    "        neighbourhood_v = self._S.get_neighbours(v)\n",
    "\n",
    "        shared_neigbourhood = neighbourhood_u & neighbourhood_v\n",
    "        shared_value = len(shared_neigbourhood)\n",
    "\n",
    "        if shared_value == 0:\n",
    "            return\n",
    "        weight_t = ((t-1)*(t-2))/(self._M * (self._M-1) )\n",
    "        if weight_t < 1:\n",
    "            weight_t = 1\n",
    "        for c in shared_neigbourhood:\n",
    "                self._local_T[c]+= weight_t\n",
    "                self._global_T += weight_t\n",
    "                self._local_T[u] += weight_t\n",
    "                self._local_T[v] += weight_t\n",
    "\n",
    "\n",
    "\n",
    "    # impelemts reservoir sampling\n",
    "    # Returns: if edge can be added to sample edgeset:S  else false\n",
    "    def sample_edge(self,edge,t):\n",
    "        # print \"sample edge (%s,%s) at time %d)\"%(edge[0],edge[1],t)\n",
    "        if t <= self._M:\n",
    "            return True\n",
    "\n",
    "        else:\n",
    "            # print \"No space for edge (%s,%s)\" % (edge[0], edge[1])\n",
    "            coin_toss = self.flip_coin(self._M/t)\n",
    "            if coin_toss:\n",
    "                edge_list = self._S.get_edges()\n",
    "                num_edges = len(edge_list)\n",
    "                e_idx = random.randint(0, num_edges-1)\n",
    "                u1,v1 = edge_list[e_idx]\n",
    "                # print \"edge to be removed (%s,%s)\" % (u1, v1)\n",
    "                self._S.delete(u1, v1)\n",
    "                return True\n",
    "\n",
    "        return False\n",
    "\n",
    "    #Run TRIEST-IMPR\n",
    "    def run_triest_impr(self,datafile):\n",
    "        t = 0\n",
    "        f = open(datafile)\n",
    "        for line in f:\n",
    "            input = line.split()\n",
    "            u = input[0]\n",
    "            v = input[1]\n",
    "            if u==v :\n",
    "                continue\n",
    "            if u > v:\n",
    "                tmp = u\n",
    "                u = v\n",
    "                v = tmp\n",
    "            if (u,v) in self._S.get_edges():\n",
    "                #print \"edge (%s,%s) already in sample\"%(u,v)\n",
    "                continue\n",
    "            t=t+1\n",
    "            self.update_counters(t,(u, v))\n",
    "            if self.sample_edge((u,v),t):\n",
    "                self._S.add(u,v)\n",
    "\n",
    "        print \"M = %d\" % (self._M)\n",
    "        print \"Local Triangles %s\"%(self._local_T)\n",
    "        print \"Global Triangles = %d\" % (int(self._global_T))\n",
    "        print \"----------------------\"\n",
    "        return int(self._global_T)\n",
    "\n",
    "def test_file(datafile):\n",
    "    f = open(datafile)\n",
    "    for line in f:\n",
    "        u, v, weight = line.split()\n",
    "        print \"%s,%s\"%(u,v)\n",
    "\n",
    "\n",
    "if __name__ == '__main__':\n",
    "    random.seed(14)\n",
    "    #datafile = \"data/dummy.txt\"\n",
    "    #datafile = \"data/out.subelj_euroroad_euroroad\"\n",
    "    datafile = \"data/out.advogato\"\n",
    "    #datafile = \"data/out.petster-friendships-hamster-uniq\"\n",
    "    #M = [500,1000,1500,2000,2500,3000,3500,4000]\n",
    "    M = [3000, 6000, 9000, 12000, 15000, 18000, 21000, 24000, 27000, 30000, 40000]\n",
    "    triangles = []\n",
    "    for m in M:\n",
    "        obj = triest_impr(m)\n",
    "        count = obj.run_triest_impr(datafile)\n",
    "        triangles.append(count)\n",
    "    plt.title(\"TRIEST-IMPR\")\n",
    "    plt.plot(M, triangles)\n",
    "    plt.xlabel(\"M\")\n",
    "    plt.ylabel(\"Triangles\")\n",
    "    plt.xticks(M)\n",
    "    plt.grid(True)\n",
    "    plt.show()"
   ]
  },
  {
   "cell_type": "code",
   "execution_count": null,
   "metadata": {},
   "outputs": [],
   "source": []
  }
 ],
 "metadata": {
  "kernelspec": {
   "display_name": "Python 3",
   "language": "python",
   "name": "python3"
  },
  "language_info": {
   "codemirror_mode": {
    "name": "ipython",
    "version": 3
   },
   "file_extension": ".py",
   "mimetype": "text/x-python",
   "name": "python",
   "nbconvert_exporter": "python",
   "pygments_lexer": "ipython3",
   "version": "3.6.4"
  }
 },
 "nbformat": 4,
 "nbformat_minor": 2
}
