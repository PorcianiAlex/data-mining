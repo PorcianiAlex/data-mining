{
 "cells": [
  {
   "cell_type": "code",
   "execution_count": 5,
   "metadata": {},
   "outputs": [],
   "source": [
    "#dev/python3\n",
    "\n",
    "import numpy as np\n",
    "import itertools"
   ]
  },
  {
   "cell_type": "code",
   "execution_count": 6,
   "metadata": {},
   "outputs": [],
   "source": [
    "class edgestore:\n",
    "\n",
    "    def __init__(self):\n",
    "        self._store = {} # adjacency list\n",
    "        self._num_edges = 0\n",
    "        self._debug = True\n",
    "        self._edge_set = set()\n",
    "\n",
    "\n",
    "    def add(self,u,v):\n",
    "        # print \"adding edge (%s,%s)\" % (u, v)\n",
    "\n",
    "        if u in self._store.keys():\n",
    "            self._store[u].add(v)\n",
    "        else :\n",
    "            self._store[u]= set([v])\n",
    "\n",
    "        if v in self._store.keys():\n",
    "            self._store[v].add(u)\n",
    "        else :\n",
    "            self._store[v] = set([u])\n",
    "        self._num_edges+=1\n",
    "        self._edge_set.add((u,v))\n",
    "\n",
    "\n",
    "\n",
    "    def delete(self,u,v):\n",
    "        #print \"deleting edge (%s,%s)\"%(u,v)\n",
    "        self._store[u].remove(v)\n",
    "        set_u = self._store[u]\n",
    "        if len(set_u) == 0:\n",
    "            del self._store[u]\n",
    "\n",
    "        self._store[v].remove(u)\n",
    "        set_v = self._store[v]\n",
    "        if len(set_v) == 0:\n",
    "            del self._store[v]\n",
    "\n",
    "        self._num_edges -= 1\n",
    "        self._edge_set.remove((u, v))\n",
    "\n",
    "\n",
    "    def get_neighbours(self,u):\n",
    "        return self._store[u]\n",
    "\n",
    "    def get_vertice_list(self):\n",
    "        return self._store.keys()\n",
    "\n",
    "    def get_edges(self):\n",
    "        return list(self._edge_set)\n"
   ]
  },
  {
   "cell_type": "code",
   "execution_count": 7,
   "metadata": {},
   "outputs": [],
   "source": [
    "import random\n",
    "\n",
    "def sample_edge(edge,t):\n",
    "    # print \"sample edge (%s,%s) at time %d)\"%(edge[0],edge[1],t)\n",
    "    if t <= M:\n",
    "        return True\n",
    "\n",
    "    else:\n",
    "        # print \"No space for edge (%s,%s)\" % (edge[0], edge[1])\n",
    "        coin_toss = flip_coin(M/t)\n",
    "        if coin_toss:\n",
    "            edge_list = S.get_edges()\n",
    "            num_edges = len(edge_list)\n",
    "            e_idx = random.randint(0, num_edges-1)\n",
    "            u1,v1 = edge_list[e_idx]\n",
    "            # print \"edge to be removed (%s,%s)\" % (u1, v1)\n",
    "            S.delete(u1, v1)\n",
    "            return True\n",
    "\n",
    "    return False\n",
    "\n",
    "def flip_coin(head_prob):\n",
    "    coin_toss = random.random()\n",
    "    if coin_toss < head_prob :\n",
    "        # print \"Head\"\n",
    "        return True\n",
    "    else:\n",
    "        # print \"Tail\"\n",
    "        return False"
   ]
  },
  {
   "cell_type": "code",
   "execution_count": 8,
   "metadata": {},
   "outputs": [],
   "source": [
    "\n",
    "def update_counters(t,tup):\n",
    "        global global_T\n",
    "        u= tup[0]\n",
    "        v= tup[1]\n",
    "        vertices = S.get_vertice_list()\n",
    "        if u not in vertices or v not in vertices:\n",
    "            return\n",
    "        neighbourhood_u = S.get_neighbours(u)\n",
    "        neighbourhood_v = S.get_neighbours(v)\n",
    "\n",
    "        shared_neigbourhood = neighbourhood_u & neighbourhood_v\n",
    "        shared_value = len(shared_neigbourhood)\n",
    "\n",
    "        if shared_value == 0:\n",
    "            return\n",
    "        weight_t = ((t-1)*(t-2))/(M * (M-1) )\n",
    "        if weight_t < 1:\n",
    "            weight_t = 1\n",
    "        for c in shared_neigbourhood:\n",
    "                local_T[c]+= weight_t\n",
    "                global_T += weight_t\n",
    "                local_T[u] += weight_t\n",
    "                local_T[v] += weight_t\n",
    "\n",
    "    \n",
    "def run_triest_impr(datafile):\n",
    "    t = 0\n",
    "    for line in datafile:\n",
    "        input = line.split()\n",
    "        u = input[0]\n",
    "        v = input[1]\n",
    "        if u==v :\n",
    "            continue\n",
    "        if u > v:\n",
    "            tmp = u\n",
    "            u = v\n",
    "            v = tmp\n",
    "        if (u,v) in S.get_edges():\n",
    "            #print \"edge (%s,%s) already in sample\"%(u,v)\n",
    "            continue\n",
    "        t=t+1\n",
    "        update_counters(t,tuple([u, v]))\n",
    "        if sample_edge((u,v),t):\n",
    "            S.add(u,v)\n",
    "\n",
    "    print(\"M: \", M)\n",
    "    print(\"Local Triangles: \", t)\n",
    "    print(\"Global Triangles = \", (int(global_T)))\n",
    "    return int(global_T)\n"
   ]
  },
  {
   "cell_type": "code",
   "execution_count": 9,
   "metadata": {},
   "outputs": [
    {
     "name": "stdout",
     "output_type": "stream",
     "text": [
      "M:  2500\n",
      "Local Triangles:  2408\n",
      "Global Triangles =  326\n"
     ]
    },
    {
     "data": {
      "text/plain": [
       "326"
      ]
     },
     "execution_count": 9,
     "metadata": {},
     "output_type": "execute_result"
    }
   ],
   "source": [
    "from collections import defaultdict\n",
    "\n",
    "local_T = defaultdict(lambda:0)\n",
    "M = 2500 #more than 2500 is stable to 326\n",
    "S = edgestore()\n",
    "global_T = 0\n",
    "\n",
    "\n",
    "file = open('data/out.maayan-faa', 'r') #dataset found from the ones in canvas #1226 vertices #2615 edges\n",
    "count = run_triest_impr(file)\n",
    "count"
   ]
  },
  {
   "cell_type": "code",
   "execution_count": null,
   "metadata": {},
   "outputs": [],
   "source": []
  }
 ],
 "metadata": {
  "kernelspec": {
   "display_name": "Python 3",
   "language": "python",
   "name": "python3"
  },
  "language_info": {
   "codemirror_mode": {
    "name": "ipython",
    "version": 3
   },
   "file_extension": ".py",
   "mimetype": "text/x-python",
   "name": "python",
   "nbconvert_exporter": "python",
   "pygments_lexer": "ipython3",
   "version": "3.6.5"
  }
 },
 "nbformat": 4,
 "nbformat_minor": 2
}
