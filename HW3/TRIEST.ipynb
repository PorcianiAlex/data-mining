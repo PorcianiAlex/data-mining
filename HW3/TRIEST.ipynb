{
 "cells": [
  {
   "cell_type": "markdown",
   "metadata": {},
   "source": [
    "## Graph structure"
   ]
  },
  {
   "cell_type": "code",
   "execution_count": 1,
   "metadata": {},
   "outputs": [],
   "source": [
    "class edgestore:\n",
    "\n",
    "    def __init__(self):\n",
    "        self._store     = {} # neighbours dictionary\n",
    "        self._num_edges = 0\n",
    "        self._edge_set  = set()\n",
    "\n",
    "    # adding edge u - v updating neighbours dictionary\n",
    "    def add(self,u,v):\n",
    "        if u in self._store.keys():\n",
    "            self._store[u].add(v)\n",
    "        else :\n",
    "            self._store[u] = set([v])\n",
    "\n",
    "        if v in self._store.keys():\n",
    "            self._store[v].add(u)\n",
    "        else :\n",
    "            self._store[v] = set([u])\n",
    "        \n",
    "        self._num_edges += 1\n",
    "        self._edge_set.add((u,v))\n",
    "\n",
    "\n",
    "    # deleting edge u - v updating neighbours dictionary\n",
    "    def delete(self,u,v):\n",
    "        self._store[u].remove(v)\n",
    "        set_u = self._store[u]\n",
    "        if len(set_u) == 0:\n",
    "            del self._store[u]\n",
    "\n",
    "        self._store[v].remove(u)\n",
    "        set_v = self._store[v]\n",
    "        if len(set_v) == 0:\n",
    "            del self._store[v]\n",
    "        \n",
    "        if self._num_edges > 0:\n",
    "            self._num_edges -= 1\n",
    "            \n",
    "        self._edge_set.remove((u, v))\n",
    "\n",
    "\n",
    "    def get_neighbours(self,u):\n",
    "        return self._store[u]\n",
    "\n",
    "    def get_vertice_list(self):\n",
    "        return self._store.keys()\n",
    "\n",
    "    def get_edges(self):\n",
    "        return list(self._edge_set)\n"
   ]
  },
  {
   "cell_type": "markdown",
   "metadata": {},
   "source": [
    "## Reservoir sampling algorithm for edges"
   ]
  },
  {
   "cell_type": "code",
   "execution_count": 2,
   "metadata": {},
   "outputs": [],
   "source": [
    "import random\n",
    "\n",
    "def reservoir_edge(edge,i):\n",
    "    \n",
    "    # keep first M items\n",
    "    if i <= M:\n",
    "        return True\n",
    "    \n",
    "    # with probability M/i keep item i and discard an old one randomly \n",
    "    else:\n",
    "        coin_toss = random.random()\n",
    "        if coin_toss < (M/i):\n",
    "            edge_list = S.get_edges()\n",
    "            num_edges = len(edge_list)\n",
    "            del_idx = random.randint(0, num_edges-1)\n",
    "            u1, v1 = edge_list[del_idx]\n",
    "            S.delete(u1, v1)\n",
    "            return True\n",
    "\n",
    "    return False\n"
   ]
  },
  {
   "cell_type": "markdown",
   "metadata": {},
   "source": [
    "## Triest algorithm"
   ]
  },
  {
   "cell_type": "code",
   "execution_count": 4,
   "metadata": {},
   "outputs": [],
   "source": [
    "\n",
    "def update_counters(i, u, v):\n",
    "        global global_T\n",
    "        vertices = S.get_vertice_list()\n",
    "        if u not in vertices or v not in vertices:\n",
    "            return\n",
    "        neighbourhood_u = S.get_neighbours(u)\n",
    "        neighbourhood_v = S.get_neighbours(v)\n",
    "\n",
    "        shared_neigbourhood = neighbourhood_u & neighbourhood_v\n",
    "        shared_value = len(shared_neigbourhood)\n",
    "\n",
    "        if shared_value == 0:\n",
    "            return\n",
    "        \n",
    "        weight_i = max(1, ((i-1)*(i-2))/(M * (M-1)))\n",
    "        \n",
    "        for c in shared_neigbourhood:\n",
    "                local_T[c] += weight_i\n",
    "                local_T[u] += weight_i\n",
    "                local_T[v] += weight_i\n",
    "                global_T   += weight_i              \n",
    "    \n",
    "def triest(datafile):\n",
    "    i = 0\n",
    "    for line in datafile:\n",
    "        edge = line.split()\n",
    "        u = int(edge[0])\n",
    "        v = int(edge[1])\n",
    "        if u == v:\n",
    "            continue\n",
    "        if u > v:\n",
    "            tmp = u\n",
    "            u = v\n",
    "            v = tmp\n",
    "        if (u,v) in S.get_edges(): # skip if edge already in sample\n",
    "            continue\n",
    "        \n",
    "        i = i + 1\n",
    "        update_counters(i,u,v)\n",
    "        if reservoir_edge((u,v),i):\n",
    "            S.add(u,v)\n",
    "\n",
    "    return int(global_T) # floor the number\n"
   ]
  },
  {
   "cell_type": "markdown",
   "metadata": {},
   "source": [
    "## Test algorithms"
   ]
  },
  {
   "cell_type": "code",
   "execution_count": 12,
   "metadata": {},
   "outputs": [
    {
     "name": "stdout",
     "output_type": "stream",
     "text": [
      "M =  200\n",
      "Global Triangles =  274\n"
     ]
    }
   ],
   "source": [
    "from collections import defaultdict\n",
    "\n",
    "M = 200 #more than 2500 is stable to 326\n",
    "S = edgestore()\n",
    "\n",
    "local_T = defaultdict(lambda:0)\n",
    "global_T = 0\n",
    "\n",
    "# dataset found from the ones in canvas \n",
    "#1226 vertices #2615 edges #326 triangles\n",
    "\n",
    "file = open('data/out.maayan-faa', 'r') \n",
    "result = triest(file)\n",
    "\n",
    "print(\"M = \", M)\n",
    "print(\"Global Triangles = \", result)\n"
   ]
  },
  {
   "cell_type": "code",
   "execution_count": 10,
   "metadata": {},
   "outputs": [],
   "source": [
    "#local_T"
   ]
  },
  {
   "cell_type": "code",
   "execution_count": null,
   "metadata": {},
   "outputs": [],
   "source": []
  }
 ],
 "metadata": {
  "kernelspec": {
   "display_name": "Python 3",
   "language": "python",
   "name": "python3"
  },
  "language_info": {
   "codemirror_mode": {
    "name": "ipython",
    "version": 3
   },
   "file_extension": ".py",
   "mimetype": "text/x-python",
   "name": "python",
   "nbconvert_exporter": "python",
   "pygments_lexer": "ipython3",
   "version": "3.6.4"
  }
 },
 "nbformat": 4,
 "nbformat_minor": 2
}
