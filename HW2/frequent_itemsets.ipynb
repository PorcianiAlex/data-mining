{
 "cells": [
  {
   "cell_type": "code",
   "execution_count": 1,
   "metadata": {},
   "outputs": [],
   "source": [
    "#dev/python3\n",
    "import numpy as np\n",
    "import itertools"
   ]
  },
  {
   "cell_type": "code",
   "execution_count": 2,
   "metadata": {},
   "outputs": [],
   "source": [
    "file = open('T10I4D100K.dat', 'r')\n",
    "\n",
    "data = []\n",
    "for line in file:\n",
    "    x = list(map(int, line.split(\" \")[:-1]))\n",
    "    data.append(set(x))\n",
    "\n",
    "numItems = len(data)\n"
   ]
  },
  {
   "cell_type": "code",
   "execution_count": 3,
   "metadata": {},
   "outputs": [],
   "source": [
    "#count number of occurences per item (C1 + count)\n",
    "def generateC1(dataSet):\n",
    "    productDict = {}\n",
    "    for basket in dataSet:\n",
    "        for product in basket:\n",
    "            if product not in productDict:\n",
    "                productDict[product] = 1\n",
    "            else:\n",
    "                productDict[product] = productDict[product] + 1\n",
    "    return productDict"
   ]
  },
  {
   "cell_type": "code",
   "execution_count": 4,
   "metadata": {},
   "outputs": [],
   "source": [
    "#eliminate items that have a support under the threshold \n",
    "def filterBySupport(d, support):\n",
    "    return {k:v for k,v in d.items() if d[k]/numItems > support}"
   ]
  },
  {
   "cell_type": "code",
   "execution_count": 5,
   "metadata": {},
   "outputs": [],
   "source": [
    "def generateCk(lk, k, dataset):\n",
    "    \n",
    "    countDict = {}\n",
    "    \n",
    "    if k > 2:\n",
    "        lk = {item for t in lk for item in t}\n",
    "        #print(\"lk len: \", len(lk))\n",
    "\n",
    "    \n",
    "    for basket in dataset:\n",
    "        \n",
    "        intersection = basket.intersection(lk)\n",
    "        #sub = basket - intersection\n",
    "        #newcanedidates = {(intersection + item) for item in sub}\n",
    "        \n",
    "        if len(intersection) > k:\n",
    "            newcandidates = itertools.combinations(intersection, k)\n",
    "            \n",
    "            for c in newcandidates:\n",
    "\n",
    "                if c not in countDict:\n",
    "                    countDict[c] = 1\n",
    "                else:\n",
    "                    countDict[c] +=1\n",
    "    \n",
    "    return countDict\n",
    "                "
   ]
  },
  {
   "cell_type": "code",
   "execution_count": 54,
   "metadata": {},
   "outputs": [
    {
     "data": {
      "text/plain": [
       "{(704, 39): 1104,\n",
       " (704, 825): 1099,\n",
       " (39, 825): 1137,\n",
       " (789, 829): 1101,\n",
       " (368, 829): 1138,\n",
       " (217, 346): 1279,\n",
       " (682, 368): 1155,\n",
       " (227, 390): 1040}"
      ]
     },
     "execution_count": 54,
     "metadata": {},
     "output_type": "execute_result"
    }
   ],
   "source": [
    "#test\n",
    "\n",
    "C1 = generateC1(data)\n",
    "L1 = filterBySupport(C1, 0.01)\n",
    "#print(L1)\n",
    "#print(set(L1.keys()))\n",
    "C2 = generateCk(set(L1.keys()), 2, data)\n",
    "L2 = filterBySupport(C2, 0.01)\n",
    "L2"
   ]
  },
  {
   "cell_type": "code",
   "execution_count": 55,
   "metadata": {},
   "outputs": [
    {
     "name": "stdout",
     "output_type": "stream",
     "text": [
      "lk len:  11\n"
     ]
    },
    {
     "data": {
      "text/plain": [
       "{}"
      ]
     },
     "execution_count": 55,
     "metadata": {},
     "output_type": "execute_result"
    }
   ],
   "source": [
    "C3 = generateCk(set(L2.keys()), 3, data)\n",
    "L3 = filterBySupport(C3, 0.01)\n",
    "L3"
   ]
  },
  {
   "cell_type": "code",
   "execution_count": 11,
   "metadata": {},
   "outputs": [],
   "source": [
    "def generateLK(dataset, support):\n",
    "    \n",
    "    dataset = dataset.copy()\n",
    "    \n",
    "    L = []\n",
    "    C = []\n",
    "    \n",
    "    C.append(generateC1(dataset))\n",
    "    L.append(filterBySupport(C[0], support))\n",
    "    \n",
    "    for k in range(1, 10):\n",
    "        \n",
    "        #print(\"C: \", k-1,  len(C[-1].keys()))\n",
    "        #print(\"L: \", k-1, len(L[-1].keys()))\n",
    "        \n",
    "        C.append(generateCk(set(L[-1].keys()), k+1, dataset))\n",
    "        L.append(filterBySupport(C[-1], support))\n",
    "        \n",
    "                  \n",
    "        if len(L[len(L)-1]) == 0: \n",
    "            break\n",
    "        \n",
    "    return L,C\n",
    "        "
   ]
  },
  {
   "cell_type": "code",
   "execution_count": 12,
   "metadata": {
    "scrolled": false
   },
   "outputs": [
    {
     "name": "stdout",
     "output_type": "stream",
     "text": [
      "candidates generated\n"
     ]
    }
   ],
   "source": [
    "L, C = generateLK(data, 0.005)\n",
    "print(\"candidates generated\")"
   ]
  },
  {
   "cell_type": "code",
   "execution_count": 13,
   "metadata": {},
   "outputs": [
    {
     "name": "stdout",
     "output_type": "stream",
     "text": [
      "round  1  :  [448, 834, 164, 775, 328, 687, 240, 368, 274, 561] \n",
      "\n",
      "round  2  :  [(448, 538), (704, 39), (704, 825), (39, 825), (708, 978), (708, 883), (978, 883), (883, 853), (782, 529), (674, 720)] \n",
      "\n",
      "round  3  :  [(704, 39, 825), (623, 853, 571), (623, 853, 795), (801, 392, 862), (579, 842, 411), (579, 842, 572), (579, 411, 572), (803, 842, 411), (803, 842, 572), (803, 411, 572)] \n",
      "\n",
      "round  4  :  [(803, 842, 411, 572), (579, 842, 411, 572), (290, 969, 458, 208), (290, 969, 458, 888), (290, 969, 208, 888), (290, 458, 208, 888), (969, 458, 208, 888), (33, 515, 217, 346), (33, 515, 217, 283), (33, 515, 346, 283)] \n",
      "\n",
      "round  5  :  [] \n",
      "\n"
     ]
    }
   ],
   "source": [
    "for k in range(len(L)):\n",
    "    \n",
    "    print( \"round \", k+1, \" : \",  list(L[k])[0:10], \"\\n\")"
   ]
  },
  {
   "cell_type": "code",
   "execution_count": 14,
   "metadata": {},
   "outputs": [
    {
     "name": "stdout",
     "output_type": "stream",
     "text": [
      "round  1  :  [448, 834, 164, 775, 328, 687, 240, 368, 274, 561] \n",
      "\n",
      "round  2  :  [(448, 834), (448, 164), (448, 775), (448, 328), (448, 687), (448, 240), (448, 368), (448, 274), (448, 561), (448, 52)] \n",
      "\n",
      "round  3  :  [(448, 834, 775), (448, 834, 240), (448, 834, 368), (448, 834, 274), (448, 834, 561), (448, 834, 52), (448, 834, 825), (448, 834, 538), (448, 775, 240), (448, 775, 368)] \n",
      "\n",
      "round  4  :  [(704, 39, 825, 857), (704, 39, 825, 895), (704, 39, 857, 895), (704, 825, 857, 895), (39, 825, 857, 895), (682, 782, 529, 947), (682, 782, 529, 185), (682, 782, 947, 185), (682, 529, 947, 185), (782, 529, 947, 185)] \n",
      "\n",
      "round  5  :  [(290, 969, 458, 208, 888), (290, 969, 458, 208, 217), (290, 969, 458, 888, 217), (290, 969, 208, 888, 217), (290, 458, 208, 888, 217), (969, 458, 208, 888, 217), (546, 947, 411, 661, 217), (546, 947, 411, 661, 923), (546, 947, 411, 217, 923), (546, 947, 661, 217, 923)] \n",
      "\n"
     ]
    }
   ],
   "source": [
    "for k in range(len(C)):\n",
    "    \n",
    "    print( \"round \", k+1, \" : \",  list(C[k])[0:10], \"\\n\")"
   ]
  }
 ],
 "metadata": {
  "kernelspec": {
   "display_name": "Python 3",
   "language": "python",
   "name": "python3"
  },
  "language_info": {
   "codemirror_mode": {
    "name": "ipython",
    "version": 3
   },
   "file_extension": ".py",
   "mimetype": "text/x-python",
   "name": "python",
   "nbconvert_exporter": "python",
   "pygments_lexer": "ipython3",
   "version": "3.6.5"
  }
 },
 "nbformat": 4,
 "nbformat_minor": 2
}
