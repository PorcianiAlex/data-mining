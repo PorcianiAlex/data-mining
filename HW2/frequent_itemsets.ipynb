{
 "cells": [
  {
   "cell_type": "code",
   "execution_count": 1,
   "metadata": {},
   "outputs": [],
   "source": [
    "#dev/python3\n",
    "import numpy as np"
   ]
  },
  {
   "cell_type": "code",
   "execution_count": 2,
   "metadata": {},
   "outputs": [],
   "source": [
    "file = open('T10I4D100K.dat', 'r')\n",
    "\n",
    "data = []\n",
    "for line in file:\n",
    "    x = list(map(int, line.split(\" \")[:-1]))\n",
    "    data.append(x)\n",
    "\n",
    "numItems = len(data)"
   ]
  },
  {
   "cell_type": "code",
   "execution_count": 3,
   "metadata": {},
   "outputs": [],
   "source": [
    "#generate a list of all items without duplicates\n",
    "import itertools\n",
    "C1 = list(set(itertools.chain.from_iterable(data)))"
   ]
  },
  {
   "cell_type": "code",
   "execution_count": 4,
   "metadata": {},
   "outputs": [],
   "source": [
    "#count number of occurences per item\n",
    "def generateC1(dataSet):\n",
    "    productDict = {}\n",
    "    for data in dataSet:\n",
    "        for product in data:\n",
    "            if product not in productDict:\n",
    "                productDict[product] = 1\n",
    "            else:\n",
    "                productDict[product] = productDict[product] + 1\n",
    "    return productDict\n",
    "\n"
   ]
  },
  {
   "cell_type": "code",
   "execution_count": 5,
   "metadata": {},
   "outputs": [],
   "source": [
    "#eliminate items that have a support under the threshold \n",
    "support = 0.05\n",
    "def filterBySupport(d, support):\n",
    "    return {k:v for k,v in d.items() if d[k]/numItems > support}"
   ]
  },
  {
   "cell_type": "code",
   "execution_count": 6,
   "metadata": {},
   "outputs": [],
   "source": [
    "#create list of lenght k\n",
    "def generate_candidates_1(candidates, k):\n",
    "    return list(itertools.combinations(set(candidates), k))"
   ]
  },
  {
   "cell_type": "code",
   "execution_count": 7,
   "metadata": {},
   "outputs": [],
   "source": [
    "def countOccurences(ck, dataset):\n",
    "    countDict = {}\n",
    "    for basket in dataset:\n",
    "        for candidate in ck:\n",
    "            if set(candidate).issubset(set(basket)):\n",
    "                if candidate not in countDict:\n",
    "                    countDict[candidate] = 1\n",
    "                else:\n",
    "                    countDict[candidate] += 1\n",
    "    return countDict\n",
    "                "
   ]
  },
  {
   "cell_type": "code",
   "execution_count": 8,
   "metadata": {},
   "outputs": [],
   "source": [
    "#eliminate records where no candidates appear\n",
    "def filterDataset(dataset, candidates):\n",
    "    return [x for x in dataset if any(c in x for c in candidates)]\n",
    "\n",
    "def filterDataset_k(dataset, candidates):\n",
    "    return [x for x in dataset if any(set(c).issubset(set(x)) for c in candidates)]"
   ]
  },
  {
   "cell_type": "code",
   "execution_count": 9,
   "metadata": {},
   "outputs": [],
   "source": [
    "def generate_candidates_k(candidates, k):\n",
    "    l = []\n",
    "    list(l.extend(row) for row in candidates)\n",
    "    return list(itertools.combinations(set(l), k))"
   ]
  },
  {
   "cell_type": "code",
   "execution_count": 10,
   "metadata": {},
   "outputs": [],
   "source": [
    "def generateLK(dataset, support):\n",
    "    L = []\n",
    "    dataset = dataset.copy()\n",
    "    C = generateC1(dataset)\n",
    "    L.append(filterBySupport(C, support))\n",
    "    dataset = filterDataset(dataset, list(L[0].keys()))\n",
    "\n",
    "    C = generate_candidates_1(list(L[0].keys()), 2)\n",
    "    print(len(dataset))\n",
    "    for k in range(2, 5):\n",
    "        C = countOccurences(C, dataset)\n",
    "        L.append(filterBySupport(C, support))\n",
    "        if len(L[len(L)-1]) == 0: \n",
    "            break\n",
    "        dataset = filterDataset_k(dataset, list(L[len(L)-1].keys()))\n",
    "        print(len(dataset))\n",
    "        C = generate_candidates_k(list(L[k-1].keys()), k+1)\n",
    "    return L\n",
    "        "
   ]
  },
  {
   "cell_type": "code",
   "execution_count": null,
   "metadata": {},
   "outputs": [
    {
     "name": "stdout",
     "output_type": "stream",
     "text": [
      "99933\n"
     ]
    }
   ],
   "source": [
    "L = generateLK(data, 0.01)\n",
    "L"
   ]
  },
  {
   "cell_type": "code",
   "execution_count": null,
   "metadata": {},
   "outputs": [],
   "source": []
  }
 ],
 "metadata": {
  "kernelspec": {
   "display_name": "Python 3",
   "language": "python",
   "name": "python3"
  },
  "language_info": {
   "codemirror_mode": {
    "name": "ipython",
    "version": 3
   },
   "file_extension": ".py",
   "mimetype": "text/x-python",
   "name": "python",
   "nbconvert_exporter": "python",
   "pygments_lexer": "ipython3",
   "version": "3.6.4"
  }
 },
 "nbformat": 4,
 "nbformat_minor": 2
}
