{
 "cells": [
  {
   "cell_type": "code",
   "execution_count": 1,
   "metadata": {},
   "outputs": [],
   "source": [
    "#dev/python3\n",
    "import numpy as np\n",
    "import itertools"
   ]
  },
  {
   "cell_type": "code",
   "execution_count": 2,
   "metadata": {},
   "outputs": [],
   "source": [
    "file = open('T10I4D100K.dat', 'r')\n",
    "\n",
    "data = []\n",
    "for line in file:\n",
    "    x = list(map(int, line.split(\" \")[:-1]))\n",
    "    data.append(set(x))\n",
    "\n",
    "numItems = len(data)\n"
   ]
  },
  {
   "cell_type": "code",
   "execution_count": 3,
   "metadata": {},
   "outputs": [],
   "source": [
    "#count number of occurences per item (C1 + count)\n",
    "def generateC1(dataSet):\n",
    "    productDict = {}\n",
    "    for basket in dataSet:\n",
    "        for product in basket:\n",
    "            if product not in productDict:\n",
    "                productDict[product] = 1\n",
    "            else:\n",
    "                productDict[product] = productDict[product] + 1\n",
    "    return productDict"
   ]
  },
  {
   "cell_type": "code",
   "execution_count": 4,
   "metadata": {},
   "outputs": [],
   "source": [
    "#eliminate items that have a support under the threshold \n",
    "def filterBySupport(d, support):\n",
    "    return {k:v for k,v in d.items() if d[k]/numItems > support}"
   ]
  },
  {
   "cell_type": "code",
   "execution_count": 5,
   "metadata": {},
   "outputs": [],
   "source": [
    "def generateCk(lk, k, dataset):\n",
    "    \n",
    "    countDict = {}\n",
    "    \n",
    "    if k > 2:\n",
    "        lk = {item for t in lk for item in t}\n",
    "        #print(\"lk len: \", len(lk))\n",
    "\n",
    "    \n",
    "    for basket in dataset:\n",
    "        \n",
    "        intersection = basket.intersection(lk)\n",
    "        #sub = basket - intersection\n",
    "        #newcanedidates = {(intersection + item) for item in sub}\n",
    "        \n",
    "        if len(intersection) > k:\n",
    "            newcandidates = itertools.combinations(sorted(intersection), k)\n",
    "            \n",
    "            for c in newcandidates:\n",
    "\n",
    "                if c not in countDict:\n",
    "                    countDict[c] = 1\n",
    "                else:\n",
    "                    countDict[c] +=1\n",
    "    \n",
    "    return countDict\n",
    "                "
   ]
  },
  {
   "cell_type": "code",
   "execution_count": 6,
   "metadata": {},
   "outputs": [],
   "source": [
    "#test\n",
    "\n",
    "C1 = generateC1(data)\n",
    "L1 = filterBySupport(C1, 0.01)\n",
    "#print(C1)\n",
    "C2 = generateCk(set(L1.keys()), 2, data)\n",
    "L2 = filterBySupport(C2, 0.01)\n",
    "#print(L2)\n",
    "C3 = generateCk(set(L2.keys()), 3, data)\n",
    "L3 = filterBySupport(C3, 0.01)\n",
    "#print(L3)"
   ]
  },
  {
   "cell_type": "code",
   "execution_count": 7,
   "metadata": {},
   "outputs": [],
   "source": [
    "def generateLK(dataset, support):\n",
    "    \n",
    "    dataset = dataset.copy()\n",
    "    \n",
    "    L = []\n",
    "    C = []\n",
    "    \n",
    "    C.append(generateC1(dataset))\n",
    "    L.append(filterBySupport(C[0], support))\n",
    "    \n",
    "    for k in range(1, 10):\n",
    "        \n",
    "        #print(\"C: \", k-1,  len(C[-1].keys()))\n",
    "        #print(\"L: \", k-1, len(L[-1].keys()))\n",
    "        \n",
    "        C.append(generateCk(set(L[-1].keys()), k+1, dataset))\n",
    "        L.append(filterBySupport(C[-1], support))\n",
    "        \n",
    "                  \n",
    "        if len(L[len(L)-1]) == 0: \n",
    "            break\n",
    "        \n",
    "    return L,C\n",
    "        "
   ]
  },
  {
   "cell_type": "code",
   "execution_count": 8,
   "metadata": {
    "scrolled": false
   },
   "outputs": [
    {
     "name": "stdout",
     "output_type": "stream",
     "text": [
      "candidates generated\n"
     ]
    }
   ],
   "source": [
    "L, C = generateLK(data, 0.005)\n",
    "print(\"candidates generated\")"
   ]
  },
  {
   "cell_type": "code",
   "execution_count": 9,
   "metadata": {},
   "outputs": [
    {
     "name": "stdout",
     "output_type": "stream",
     "text": [
      "round  1  :  [448, 834, 164, 775, 328, 687, 240, 368, 274, 561] \n",
      "\n",
      "round  2  :  [(448, 538), (39, 704), (39, 825), (704, 825), (708, 883), (708, 978), (853, 883), (883, 978), (529, 782), (674, 720)] \n",
      "\n",
      "round  3  :  [(39, 704, 825), (708, 883, 978), (571, 623, 795), (571, 623, 853), (571, 795, 853), (623, 795, 853), (392, 801, 862), (350, 411, 572), (350, 411, 579), (350, 411, 803)] \n",
      "\n",
      "round  4  :  [(350, 411, 572, 579), (350, 411, 572, 803), (350, 411, 572, 842), (350, 411, 579, 803), (350, 411, 579, 842), (350, 411, 803, 842), (350, 572, 579, 803), (350, 572, 579, 842), (350, 572, 803, 842), (350, 579, 803, 842)] \n",
      "\n",
      "round  5  :  [] \n",
      "\n"
     ]
    }
   ],
   "source": [
    "for k in range(len(L)):\n",
    "    \n",
    "    print( \"round \", k+1, \" : \",  list(L[k])[0:10], \"\\n\")"
   ]
  },
  {
   "cell_type": "code",
   "execution_count": 10,
   "metadata": {},
   "outputs": [],
   "source": [
    "def generateAssociationRule(freqSet):\n",
    "    \n",
    "    associationRule = []\n",
    "    \n",
    "    for item in freqSet:\n",
    "        item = list(item)\n",
    "        if len(item) != 0:\n",
    "            length = len(item) - 1\n",
    "            while length > 0:\n",
    "                combinations = list(itertools.combinations(item, length))\n",
    "                temp = []\n",
    "                LHS = []\n",
    "                for RHS in combinations:\n",
    "                    LHS = set(item) - set(RHS)\n",
    "                    temp.append(list(LHS))\n",
    "                    temp.append(list(RHS))\n",
    "                    associationRule.append(temp)\n",
    "                    temp = []\n",
    "                length = length - 1\n",
    "    return associationRule\n",
    "   \n"
   ]
  },
  {
   "cell_type": "code",
   "execution_count": 11,
   "metadata": {},
   "outputs": [],
   "source": [
    "def confidence(rule):\n",
    "    xAndY = sorted(rule[0] + rule[1])\n",
    "    if len(rule[0])==1:\n",
    "        if rule[0][0] in C[len(rule[0])-1]:\n",
    "            x = C[len(rule[0])-1][rule[0][0]]\n",
    "        else:\n",
    "            return 0\n",
    "    else:\n",
    "        if tuple(rule[0]) in C[len(rule[0])-1]:\n",
    "            x = C[len(rule[0])-1][tuple(rule[0])]\n",
    "        else:\n",
    "            return 0\n",
    "    \n",
    "    if tuple(xAndY) in C[len(xAndY)-1]:\n",
    "        xy = C[len(xAndY)-1][tuple(xAndY)]\n",
    "        return (xy / x)\n",
    "    else:\n",
    "        return 0\n",
    "                "
   ]
  },
  {
   "cell_type": "code",
   "execution_count": 12,
   "metadata": {},
   "outputs": [
    {
     "name": "stdout",
     "output_type": "stream",
     "text": [
      "0.2444547134935305\n",
      "0.3329137822529893\n",
      "0.25842696629213485\n",
      "0.17236884978820463\n",
      "0\n"
     ]
    }
   ],
   "source": [
    "#test\n",
    "\n",
    "rules = generateAssociationRule(L[3])\n",
    "for i in range(0, 5):\n",
    "    c = confidence(rules[i])\n",
    "    print(c)"
   ]
  },
  {
   "cell_type": "code",
   "execution_count": 13,
   "metadata": {},
   "outputs": [],
   "source": [
    "def associationRule(freqItem, minConf=0.8):\n",
    "    \n",
    "    confDict = dict()\n",
    "\n",
    "    for k in range(1, len(freqItem)):\n",
    "\n",
    "        rules = generateAssociationRule(freqItem[k])\n",
    "\n",
    "        for i in range(len(rules)):\n",
    "\n",
    "            c = confidence(rules[i])\n",
    "\n",
    "            if c > minConf: \n",
    "                confDict[str(rules[i][0]) + \" --> \" + str(rules[i][1]) ] = c  \n",
    "    return confDict\n"
   ]
  },
  {
   "cell_type": "code",
   "execution_count": 19,
   "metadata": {},
   "outputs": [
    {
     "name": "stdout",
     "output_type": "stream",
     "text": [
      "41\n"
     ]
    },
    {
     "data": {
      "text/plain": [
       "{'[969] --> [888]': 0.9540636042402827,\n",
       " '[392, 801] --> [862]': 0.9593373493975904,\n",
       " '[208, 290] --> [888]': 0.9514321295143213,\n",
       " '[208, 290] --> [969]': 0.9514321295143213,\n",
       " '[888, 969] --> [208]': 0.9518518518518518,\n",
       " '[208, 969] --> [888]': 0.956575682382134,\n",
       " '[638, 935] --> [192]': 0.9824561403508771,\n",
       " '[192, 638] --> [935]': 0.9527410207939508,\n",
       " '[33, 515] --> [217]': 0.9575242718446602,\n",
       " '[33, 346] --> [283]': 0.9502369668246445,\n",
       " '[33, 515] --> [283]': 0.9538834951456311,\n",
       " '[33, 515] --> [346]': 0.9672330097087378,\n",
       " '[283, 515] --> [217]': 0.9568862275449102,\n",
       " '[346, 515] --> [217]': 0.9528857479387515,\n",
       " '[217, 515] --> [346]': 0.9596678529062871,\n",
       " '[283, 515] --> [346]': 0.9640718562874252,\n",
       " '[546, 661] --> [217]': 0.9590163934426229,\n",
       " '[217, 546] --> [661]': 0.9766277128547579,\n",
       " '[546, 923] --> [217]': 0.96,\n",
       " '[217, 546] --> [923]': 0.9616026711185309,\n",
       " '[217, 546] --> [947]': 0.9632721202003339,\n",
       " '[546, 923] --> [661]': 0.9866666666666667,\n",
       " '[546, 661] --> [923]': 0.9704918032786886,\n",
       " '[546, 947] --> [661]': 0.9736842105263158,\n",
       " '[546, 661] --> [947]': 0.9704918032786886,\n",
       " '[546, 947] --> [923]': 0.9605263157894737,\n",
       " '[546, 923] --> [947]': 0.9733333333333334,\n",
       " '[185, 678] --> [471]': 0.9879518072289156,\n",
       " '[185, 471] --> [678]': 0.9647058823529412,\n",
       " '[185, 471] --> [960]': 0.9647058823529412,\n",
       " '[185, 678] --> [960]': 0.9819277108433735,\n",
       " '[208, 458, 888] --> [969]': 0.951058201058201,\n",
       " '[217, 546, 923] --> [661]': 0.984375,\n",
       " '[217, 546, 661] --> [923]': 0.9692307692307692,\n",
       " '[217, 546, 947] --> [661]': 0.9844020797227037,\n",
       " '[217, 546, 661] --> [947]': 0.9709401709401709,\n",
       " '[546, 923, 947] --> [217]': 0.9623287671232876,\n",
       " '[217, 923, 947] --> [546]': 0.9639794168096055,\n",
       " '[217, 546, 947] --> [923]': 0.9740034662045061,\n",
       " '[217, 546, 923] --> [947]': 0.9756944444444444,\n",
       " '[546, 923] --> [661, 947]': 0.9516666666666667}"
      ]
     },
     "execution_count": 19,
     "metadata": {},
     "output_type": "execute_result"
    }
   ],
   "source": [
    "AR = associationRule(L, 0.95)\n",
    "print(len(AR))\n",
    "AR"
   ]
  },
  {
   "cell_type": "code",
   "execution_count": 17,
   "metadata": {},
   "outputs": [],
   "source": [
    "def outputRulesFromSC(support, confidence):\n",
    "    \n",
    "    L, C = generateLK(data, support)\n",
    "    AR = associationRule(L, confidence)\n",
    "    \n",
    "    return AR\n",
    "    "
   ]
  },
  {
   "cell_type": "code",
   "execution_count": 18,
   "metadata": {},
   "outputs": [
    {
     "data": {
      "text/plain": [
       "{'[969] --> [208]': 0.9493521790341578,\n",
       " '[969] --> [290]': 0.9387514723203769,\n",
       " '[969] --> [458]': 0.928150765606596,\n",
       " '[969] --> [888]': 0.9540636042402827,\n",
       " '[571, 623] --> [853]': 0.909323116219668,\n",
       " '[208, 458] --> [290]': 0.9434673366834171,\n",
       " '[208, 290] --> [458]': 0.9352428393524284,\n",
       " '[208, 888] --> [290]': 0.9215922798552473,\n",
       " '[208, 290] --> [888]': 0.9514321295143213,\n",
       " '[208, 969] --> [290]': 0.9478908188585607,\n",
       " '[208, 290] --> [969]': 0.9514321295143213,\n",
       " '[208, 888] --> [458]': 0.9119420989143546,\n",
       " '[208, 458] --> [888]': 0.949748743718593,\n",
       " '[208, 969] --> [458]': 0.9367245657568238,\n",
       " '[208, 458] --> [969]': 0.9484924623115578,\n",
       " '[969] --> [208, 888]': 0.9081272084805654,\n",
       " '[888, 969] --> [208]': 0.9518518518518518,\n",
       " '[208, 969] --> [888]': 0.956575682382134,\n",
       " '[208, 888] --> [969]': 0.9300361881785284,\n",
       " '[969] --> [290, 888]': 0.901060070671378,\n",
       " '[888, 969] --> [290]': 0.9444444444444444,\n",
       " '[888, 969] --> [458]': 0.9333333333333333,\n",
       " '[33, 283] --> [217]': 0.9372781065088758,\n",
       " '[33, 217] --> [283]': 0.9295774647887324,\n",
       " '[33, 346] --> [217]': 0.9490521327014217,\n",
       " '[33, 217] --> [346]': 0.9401408450704225,\n",
       " '[217, 515] --> [33]': 0.9359430604982206,\n",
       " '[33, 515] --> [217]': 0.9575242718446602,\n",
       " '[33, 217] --> [515]': 0.926056338028169,\n",
       " '[33, 346] --> [283]': 0.9502369668246445,\n",
       " '[33, 283] --> [346]': 0.9491124260355029,\n",
       " '[283, 515] --> [33]': 0.9413173652694611,\n",
       " '[33, 515] --> [283]': 0.9538834951456311,\n",
       " '[33, 283] --> [515]': 0.9301775147928995,\n",
       " '[346, 515] --> [33]': 0.9387514723203769,\n",
       " '[33, 515] --> [346]': 0.9672330097087378,\n",
       " '[33, 346] --> [515]': 0.9443127962085308,\n",
       " '[283, 515] --> [217]': 0.9568862275449102,\n",
       " '[217, 515] --> [283]': 0.9478054567022538,\n",
       " '[346, 515] --> [217]': 0.9528857479387515,\n",
       " '[217, 515] --> [346]': 0.9596678529062871,\n",
       " '[346, 515] --> [283]': 0.9481743227326266,\n",
       " '[283, 515] --> [346]': 0.9640718562874252,\n",
       " '[21, 413] --> [793]': 0.921957671957672,\n",
       " '[21, 413] --> [857]': 0.9074074074074074,\n",
       " '[12, 390] --> [722]': 0.9082969432314411,\n",
       " '[185, 678] --> [471]': 0.9879518072289156,\n",
       " '[185, 471] --> [678]': 0.9647058823529412,\n",
       " '[185, 471] --> [960]': 0.9647058823529412,\n",
       " '[185, 678] --> [960]': 0.9819277108433735,\n",
       " '[208, 458] --> [290, 888]': 0.9020100502512562,\n",
       " '[208, 458, 888] --> [290]': 0.9497354497354498,\n",
       " '[208, 290, 888] --> [458]': 0.9397905759162304,\n",
       " '[208, 290, 888] --> [969]': 0.9410994764397905,\n",
       " '[208, 458] --> [888, 969]': 0.9032663316582915,\n",
       " '[208, 458, 888] --> [969]': 0.951058201058201,\n",
       " '[33, 515] --> [217, 283]': 0.9077669902912622,\n",
       " '[33, 515] --> [217, 346]': 0.9174757281553398,\n",
       " '[217, 346, 515] --> [33]': 0.934487021013597,\n",
       " '[33, 346, 515] --> [217]': 0.9485570890840652,\n",
       " '[283, 515] --> [33, 346]': 0.9029940119760479,\n",
       " '[33, 515] --> [283, 346]': 0.9150485436893204,\n",
       " '[283, 346, 515] --> [33]': 0.9366459627329192,\n",
       " '[33, 346, 515] --> [283]': 0.946047678795483,\n",
       " '[283, 515] --> [217, 346]': 0.9077844311377246,\n",
       " '[283, 346, 515] --> [217]': 0.9416149068322981,\n",
       " '[217, 346, 515] --> [283]': 0.9369592088998764}"
      ]
     },
     "execution_count": 18,
     "metadata": {},
     "output_type": "execute_result"
    }
   ],
   "source": [
    "outputRulesFromSC(0.006, 0.9)"
   ]
  },
  {
   "cell_type": "code",
   "execution_count": null,
   "metadata": {},
   "outputs": [],
   "source": []
  }
 ],
 "metadata": {
  "kernelspec": {
   "display_name": "Python 3",
   "language": "python",
   "name": "python3"
  },
  "language_info": {
   "codemirror_mode": {
    "name": "ipython",
    "version": 3
   },
   "file_extension": ".py",
   "mimetype": "text/x-python",
   "name": "python",
   "nbconvert_exporter": "python",
   "pygments_lexer": "ipython3",
   "version": "3.6.5"
  }
 },
 "nbformat": 4,
 "nbformat_minor": 2
}
