{
 "cells": [
  {
   "cell_type": "markdown",
   "metadata": {},
   "source": [
    "# Frequent Itemsets and Association Rules"
   ]
  },
  {
   "cell_type": "code",
   "execution_count": 2,
   "metadata": {},
   "outputs": [],
   "source": [
    "#dev/python3\n",
    "\n",
    "import numpy as np\n",
    "import itertools"
   ]
  },
  {
   "cell_type": "code",
   "execution_count": 3,
   "metadata": {},
   "outputs": [],
   "source": [
    "#read the dataset of baskets\n",
    "\n",
    "file = open('T10I4D100K.dat', 'r')\n",
    "\n",
    "data = []\n",
    "for line in file:\n",
    "    x = list(map(int, line.split(\" \")[:-1]))\n",
    "    data.append(set(x))\n",
    "\n",
    "numItems = len(data)\n"
   ]
  },
  {
   "cell_type": "code",
   "execution_count": 4,
   "metadata": {},
   "outputs": [],
   "source": [
    "#count number of occurences per item \n",
    "#we create a dict with item: occurences (C1)\n",
    "\n",
    "def generateC1(dataSet):\n",
    "    productDict = {}\n",
    "    for basket in dataSet:\n",
    "        for product in basket:\n",
    "            if product not in productDict:\n",
    "                productDict[product] = 1\n",
    "            else:\n",
    "                productDict[product] = productDict[product] + 1\n",
    "    return productDict"
   ]
  },
  {
   "cell_type": "code",
   "execution_count": 5,
   "metadata": {},
   "outputs": [],
   "source": [
    "#eliminate items that have a support under the threshold (C -> L)\n",
    "\n",
    "def filterBySupport(d, support):\n",
    "    return {k:v for k,v in d.items() if d[k]/numItems > support}"
   ]
  },
  {
   "cell_type": "code",
   "execution_count": 6,
   "metadata": {},
   "outputs": [],
   "source": [
    "#count number of occurences per itemSet \n",
    "#we create a dict with itemSet: occurences (Ck)\n",
    "\n",
    "def generateCk(lk, k, dataset):\n",
    "    \n",
    "    countDict = {}\n",
    "    \n",
    "    if k > 2:\n",
    "        #flatten\n",
    "        lk = {item for t in lk for item in t}\n",
    "\n",
    "    \n",
    "    for basket in dataset:\n",
    "        \n",
    "        intersection = basket.intersection(lk)\n",
    "        \n",
    "        if len(intersection) > k:\n",
    "            newcandidates = itertools.combinations(sorted(intersection), k)\n",
    "            \n",
    "            for c in newcandidates:\n",
    "\n",
    "                if c not in countDict:\n",
    "                    countDict[c] = 1\n",
    "                else:\n",
    "                    countDict[c] +=1\n",
    "    \n",
    "    return countDict\n",
    "                "
   ]
  },
  {
   "cell_type": "code",
   "execution_count": 13,
   "metadata": {},
   "outputs": [
    {
     "data": {
      "text/plain": [
       "{(4, 373, 716): 510,\n",
       " (6, 32, 472): 522,\n",
       " (12, 227, 390): 605,\n",
       " (12, 227, 722): 607,\n",
       " (12, 390, 722): 624,\n",
       " (21, 413, 793): 697,\n",
       " (21, 413, 857): 686,\n",
       " (21, 793, 857): 693,\n",
       " (32, 285, 947): 584,\n",
       " (33, 217, 283): 792,\n",
       " (33, 217, 346): 801,\n",
       " (33, 217, 515): 789,\n",
       " (33, 283, 346): 802,\n",
       " (33, 283, 515): 786,\n",
       " (33, 346, 515): 797,\n",
       " (39, 704, 825): 991,\n",
       " (54, 944, 998): 576,\n",
       " (70, 684, 765): 692,\n",
       " (70, 684, 819): 697,\n",
       " (70, 765, 819): 694,\n",
       " (75, 438, 684): 639,\n",
       " (105, 494, 815): 551,\n",
       " (105, 494, 862): 549,\n",
       " (105, 494, 944): 557,\n",
       " (105, 815, 862): 547,\n",
       " (105, 815, 944): 565,\n",
       " (105, 862, 944): 559,\n",
       " (120, 593, 862): 571,\n",
       " (120, 593, 895): 577,\n",
       " (120, 862, 895): 571,\n",
       " (158, 354, 583): 593,\n",
       " (158, 354, 617): 595,\n",
       " (158, 583, 617): 590,\n",
       " (185, 471, 678): 656,\n",
       " (185, 471, 960): 656,\n",
       " (185, 678, 960): 652,\n",
       " (192, 638, 935): 504,\n",
       " (192, 888, 935): 505,\n",
       " (208, 290, 458): 751,\n",
       " (208, 290, 888): 764,\n",
       " (208, 290, 969): 764,\n",
       " (208, 458, 888): 756,\n",
       " (208, 458, 969): 755,\n",
       " (208, 888, 969): 771,\n",
       " (217, 283, 346): 827,\n",
       " (217, 283, 515): 799,\n",
       " (217, 346, 515): 809,\n",
       " (217, 546, 661): 585,\n",
       " (217, 546, 923): 576,\n",
       " (217, 546, 947): 577,\n",
       " (217, 661, 923): 583,\n",
       " (217, 661, 947): 583,\n",
       " (217, 923, 947): 583,\n",
       " (227, 390, 722): 891,\n",
       " (242, 471, 758): 579,\n",
       " (283, 346, 515): 805,\n",
       " (290, 458, 888): 750,\n",
       " (290, 458, 969): 748,\n",
       " (290, 888, 969): 765,\n",
       " (346, 561, 888): 602,\n",
       " (350, 411, 572): 565,\n",
       " (350, 411, 579): 562,\n",
       " (350, 411, 803): 573,\n",
       " (350, 411, 842): 566,\n",
       " (350, 572, 579): 557,\n",
       " (350, 572, 803): 563,\n",
       " (350, 572, 842): 561,\n",
       " (350, 579, 803): 565,\n",
       " (350, 579, 842): 562,\n",
       " (350, 803, 842): 570,\n",
       " (354, 583, 617): 586,\n",
       " (368, 494, 682): 574,\n",
       " (392, 801, 862): 637,\n",
       " (411, 572, 579): 560,\n",
       " (411, 572, 803): 567,\n",
       " (411, 572, 842): 561,\n",
       " (411, 579, 803): 573,\n",
       " (411, 579, 842): 568,\n",
       " (411, 803, 842): 575,\n",
       " (413, 793, 857): 691,\n",
       " (458, 888, 969): 756,\n",
       " (470, 534, 995): 663,\n",
       " (471, 663, 871): 535,\n",
       " (471, 678, 960): 658,\n",
       " (494, 541, 631): 554,\n",
       " (494, 541, 963): 548,\n",
       " (494, 631, 963): 545,\n",
       " (494, 815, 862): 546,\n",
       " (494, 815, 944): 553,\n",
       " (494, 862, 944): 548,\n",
       " (529, 598, 782): 702,\n",
       " (541, 631, 963): 537,\n",
       " (546, 661, 923): 592,\n",
       " (546, 661, 947): 592,\n",
       " (546, 923, 947): 584,\n",
       " (571, 623, 795): 702,\n",
       " (571, 623, 853): 712,\n",
       " (571, 795, 853): 713,\n",
       " (572, 579, 803): 559,\n",
       " (572, 579, 842): 558,\n",
       " (572, 803, 842): 562,\n",
       " (579, 803, 842): 570,\n",
       " (593, 862, 895): 572,\n",
       " (623, 795, 853): 716,\n",
       " (661, 923, 947): 590,\n",
       " (684, 765, 819): 693,\n",
       " (708, 883, 978): 536,\n",
       " (815, 862, 944): 551}"
      ]
     },
     "execution_count": 13,
     "metadata": {},
     "output_type": "execute_result"
    }
   ],
   "source": [
    "#test first 3 rounds\n",
    "\n",
    "C1 = generateC1(data)\n",
    "L1 = filterBySupport(C1, 0.005)\n",
    "\n",
    "C2 = generateCk(set(L1.keys()), 2, data)\n",
    "L2 = filterBySupport(C2, 0.005)\n",
    "\n",
    "C3 = generateCk(set(L2.keys()), 3, data)\n",
    "L3 = filterBySupport(C3, 0.005)\n",
    "L3"
   ]
  },
  {
   "cell_type": "code",
   "execution_count": 14,
   "metadata": {},
   "outputs": [],
   "source": [
    "#given a support recursivly create C and L \n",
    "#and append them to two lists\n",
    "#exit when the last L is empty\n",
    "\n",
    "def generateLK(dataset, support):\n",
    "    \n",
    "    dataset = dataset.copy()\n",
    "    \n",
    "    L = []\n",
    "    C = []\n",
    "    \n",
    "    C.append(generateC1(dataset))\n",
    "    L.append(filterBySupport(C[0], support))\n",
    "    \n",
    "    for k in range(1, 20):\n",
    "        \n",
    "        #print(\"C: \", k-1,  len(C[-1].keys()))\n",
    "        #print(\"L: \", k-1, len(L[-1].keys()))\n",
    "        \n",
    "        C.append(generateCk(set(L[-1].keys()), k+1, dataset))\n",
    "        L.append(filterBySupport(C[-1], support))\n",
    "        \n",
    "                  \n",
    "        if len(L[len(L)-1]) == 0: \n",
    "            break\n",
    "        \n",
    "    return L,C\n",
    "        "
   ]
  },
  {
   "cell_type": "code",
   "execution_count": 15,
   "metadata": {
    "scrolled": false
   },
   "outputs": [
    {
     "name": "stdout",
     "output_type": "stream",
     "text": [
      "candidates generated\n"
     ]
    }
   ],
   "source": [
    "#generate frequent ItemSets\n",
    "\n",
    "L, C = generateLK(data, 0.005)\n",
    "print(\"candidates generated\")"
   ]
  },
  {
   "cell_type": "code",
   "execution_count": 16,
   "metadata": {},
   "outputs": [
    {
     "name": "stdout",
     "output_type": "stream",
     "text": [
      "round  1  :  [448, 834, 164, 775, 328, 687, 240, 368, 274, 561] \n",
      "\n",
      "round  2  :  [(448, 538), (39, 704), (39, 825), (704, 825), (708, 883), (708, 978), (853, 883), (883, 978), (529, 782), (674, 720)] \n",
      "\n",
      "round  3  :  [(39, 704, 825), (708, 883, 978), (571, 623, 795), (571, 623, 853), (571, 795, 853), (623, 795, 853), (392, 801, 862), (350, 411, 572), (350, 411, 579), (350, 411, 803)] \n",
      "\n",
      "round  4  :  [(350, 411, 572, 579), (350, 411, 572, 803), (350, 411, 572, 842), (350, 411, 579, 803), (350, 411, 579, 842), (350, 411, 803, 842), (350, 572, 579, 803), (350, 572, 579, 842), (350, 572, 803, 842), (350, 579, 803, 842)] \n",
      "\n",
      "round  5  :  [] \n",
      "\n"
     ]
    }
   ],
   "source": [
    "#print the keys (only first 10) of each round of itemSets\n",
    "#singletons, pairs, triplets...\n",
    "\n",
    "for k in range(len(L)):\n",
    "    \n",
    "    print( \"round \", k+1, \" : \",  list(L[k])[0:10], \"\\n\")"
   ]
  },
  {
   "cell_type": "code",
   "execution_count": 17,
   "metadata": {},
   "outputs": [],
   "source": [
    "#generate all possible association rules \n",
    "#from all the frequent itemSets using combinations\n",
    "\n",
    "def generateAssociationRule(freqSet):\n",
    "    \n",
    "    associationRule = []\n",
    "    \n",
    "    for item in freqSet:\n",
    "        item = list(item)\n",
    "        if len(item) != 0:\n",
    "            length = len(item) - 1\n",
    "            while length > 0:\n",
    "                combinations = list(itertools.combinations(item, length))\n",
    "                temp = []\n",
    "                LS = []\n",
    "                for RS in combinations:\n",
    "                    LS = set(item) - set(RS)\n",
    "                    temp.append(list(LS))\n",
    "                    temp.append(list(RS))\n",
    "                    associationRule.append(temp)\n",
    "                    temp = []\n",
    "                length = length - 1\n",
    "    return associationRule\n",
    "   \n"
   ]
  },
  {
   "cell_type": "code",
   "execution_count": 21,
   "metadata": {},
   "outputs": [],
   "source": [
    "#compute confidence for any antecedent and consequent rules lenghts\n",
    "\n",
    "def confidence(rule):\n",
    "    xAndY = sorted(rule[0] + rule[1])\n",
    "    \n",
    "    #access verification for antecendent of lenght 1\n",
    "    if len(rule[0])==1:\n",
    "        if rule[0][0] in C[len(rule[0])-1]:\n",
    "            x = C[len(rule[0])-1][rule[0][0]]\n",
    "        else:\n",
    "            return 0\n",
    "        \n",
    "    #access verification for antecendent of lenght >=2\n",
    "    else:\n",
    "        if tuple(rule[0]) in C[len(rule[0])-1]:\n",
    "            x = C[len(rule[0])-1][tuple(rule[0])]\n",
    "        else:\n",
    "            return 0\n",
    "        \n",
    "    #access verification for the consequent \n",
    "    if tuple(xAndY) in C[len(xAndY)-1]:\n",
    "        xy = C[len(xAndY)-1][tuple(xAndY)]\n",
    "        return (xy / x)\n",
    "    else:\n",
    "        return 0\n",
    "                "
   ]
  },
  {
   "cell_type": "code",
   "execution_count": 22,
   "metadata": {},
   "outputs": [],
   "source": [
    "#generate association rules and filter them given a confidence\n",
    "#return a dict: rule (as string) : confidence\n",
    "\n",
    "def associationRule(freqItem, minConf=0.8):\n",
    "    \n",
    "    confDict = dict()\n",
    "\n",
    "    for k in range(1, len(freqItem)):\n",
    "\n",
    "        rules = generateAssociationRule(freqItem[k])\n",
    "\n",
    "        for i in range(len(rules)):\n",
    "\n",
    "            c = confidence(rules[i])\n",
    "\n",
    "            if c > minConf: \n",
    "                confDict[str(rules[i][0]) + \" --> \" + str(rules[i][1]) ] = c  \n",
    "    return confDict\n"
   ]
  },
  {
   "cell_type": "code",
   "execution_count": 23,
   "metadata": {},
   "outputs": [
    {
     "name": "stdout",
     "output_type": "stream",
     "text": [
      "41\n"
     ]
    },
    {
     "data": {
      "text/plain": [
       "{'[185, 471] --> [678]': 0.9647058823529412,\n",
       " '[185, 471] --> [960]': 0.9647058823529412,\n",
       " '[185, 678] --> [471]': 0.9879518072289156,\n",
       " '[185, 678] --> [960]': 0.9819277108433735,\n",
       " '[192, 638] --> [935]': 0.9527410207939508,\n",
       " '[208, 290] --> [888]': 0.9514321295143213,\n",
       " '[208, 290] --> [969]': 0.9514321295143213,\n",
       " '[208, 458, 888] --> [969]': 0.951058201058201,\n",
       " '[208, 969] --> [888]': 0.956575682382134,\n",
       " '[217, 515] --> [346]': 0.9596678529062871,\n",
       " '[217, 546, 661] --> [923]': 0.9692307692307692,\n",
       " '[217, 546, 661] --> [947]': 0.9709401709401709,\n",
       " '[217, 546, 923] --> [661]': 0.984375,\n",
       " '[217, 546, 923] --> [947]': 0.9756944444444444,\n",
       " '[217, 546, 947] --> [661]': 0.9844020797227037,\n",
       " '[217, 546, 947] --> [923]': 0.9740034662045061,\n",
       " '[217, 546] --> [661]': 0.9766277128547579,\n",
       " '[217, 546] --> [923]': 0.9616026711185309,\n",
       " '[217, 546] --> [947]': 0.9632721202003339,\n",
       " '[217, 923, 947] --> [546]': 0.9639794168096055,\n",
       " '[283, 515] --> [217]': 0.9568862275449102,\n",
       " '[283, 515] --> [346]': 0.9640718562874252,\n",
       " '[33, 346] --> [283]': 0.9502369668246445,\n",
       " '[33, 515] --> [217]': 0.9575242718446602,\n",
       " '[33, 515] --> [283]': 0.9538834951456311,\n",
       " '[33, 515] --> [346]': 0.9672330097087378,\n",
       " '[346, 515] --> [217]': 0.9528857479387515,\n",
       " '[392, 801] --> [862]': 0.9593373493975904,\n",
       " '[546, 661] --> [217]': 0.9590163934426229,\n",
       " '[546, 661] --> [923]': 0.9704918032786886,\n",
       " '[546, 661] --> [947]': 0.9704918032786886,\n",
       " '[546, 923, 947] --> [217]': 0.9623287671232876,\n",
       " '[546, 923] --> [217]': 0.96,\n",
       " '[546, 923] --> [661, 947]': 0.9516666666666667,\n",
       " '[546, 923] --> [661]': 0.9866666666666667,\n",
       " '[546, 923] --> [947]': 0.9733333333333334,\n",
       " '[546, 947] --> [661]': 0.9736842105263158,\n",
       " '[546, 947] --> [923]': 0.9605263157894737,\n",
       " '[638, 935] --> [192]': 0.9824561403508771,\n",
       " '[888, 969] --> [208]': 0.9518518518518518,\n",
       " '[969] --> [888]': 0.9540636042402827}"
      ]
     },
     "execution_count": 23,
     "metadata": {},
     "output_type": "execute_result"
    }
   ],
   "source": [
    "#generate association rules from frequent itemsets found before\n",
    "\n",
    "AR = associationRule(L, 0.95)\n",
    "print(len(AR))\n",
    "AR"
   ]
  },
  {
   "cell_type": "code",
   "execution_count": 24,
   "metadata": {},
   "outputs": [],
   "source": [
    "#create both frequent itemsets and assRules given support and confidence\n",
    "\n",
    "def outputRulesFromSC(support, confidence):\n",
    "    \n",
    "    L, C = generateLK(data, support)\n",
    "    AR = associationRule(L, confidence)\n",
    "    \n",
    "    return AR\n",
    "    "
   ]
  },
  {
   "cell_type": "code",
   "execution_count": 25,
   "metadata": {},
   "outputs": [
    {
     "data": {
      "text/plain": [
       "{'[185, 471] --> [678]': 0.9647058823529412,\n",
       " '[185, 471] --> [960]': 0.9647058823529412,\n",
       " '[185, 678] --> [471]': 0.9879518072289156,\n",
       " '[185, 678] --> [960]': 0.9819277108433735,\n",
       " '[283, 515] --> [346]': 0.9640718562874252,\n",
       " '[33, 515] --> [346]': 0.9672330097087378}"
      ]
     },
     "execution_count": 25,
     "metadata": {},
     "output_type": "execute_result"
    }
   ],
   "source": [
    "#run it!\n",
    "\n",
    "outputRulesFromSC(0.006, 0.96)"
   ]
  },
  {
   "cell_type": "code",
   "execution_count": null,
   "metadata": {},
   "outputs": [],
   "source": []
  }
 ],
 "metadata": {
  "kernelspec": {
   "display_name": "Python 3",
   "language": "python",
   "name": "python3"
  },
  "language_info": {
   "codemirror_mode": {
    "name": "ipython",
    "version": 3
   },
   "file_extension": ".py",
   "mimetype": "text/x-python",
   "name": "python",
   "nbconvert_exporter": "python",
   "pygments_lexer": "ipython3",
   "version": "3.6.4"
  }
 },
 "nbformat": 4,
 "nbformat_minor": 2
}
