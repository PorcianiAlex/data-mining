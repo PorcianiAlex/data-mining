{
 "cells": [
  {
   "cell_type": "code",
   "execution_count": 1,
   "metadata": {},
   "outputs": [],
   "source": [
    "# dev/python3\n"
   ]
  },
  {
   "cell_type": "markdown",
   "metadata": {},
   "source": [
    "A class Shingling that constructs k–shingles of a given length k (e.g., 10) from a given document, computes a hash value for each unique shingle, and represents the document in the form of an ordered set of its hashed k-shingles.\n",
    "\n",
    "A class CompareSets that computes the Jaccard similarity of two sets of integers – two sets of hashed shingles.\n",
    "\n",
    "A class MinHashing that builds a minHash signature (in the form of a vector or a set) of a given length n from a given set of integers (a set of hashed shingles).\n",
    "\n",
    "A class CompareSignatures that estimates similarity of two integer vectors – minhash signatures – as a fraction of components, in which they agree.\n",
    "\n",
    "(Optional task for extra 2 bonus) A class LSH that implements the LSH technique: given a collection of minhash signatures (integer vectors) and a similarity threshold t, the LSH class (using banding and hashing) finds all candidate pairs of signatures that agree on at least fraction t of their components."
   ]
  },
  {
   "cell_type": "code",
   "execution_count": 2,
   "metadata": {},
   "outputs": [
    {
     "name": "stderr",
     "output_type": "stream",
     "text": [
      "Skipping line 3: '\t' expected after '\"'\n"
     ]
    },
    {
     "data": {
      "text/html": [
       "<div>\n",
       "<style scoped>\n",
       "    .dataframe tbody tr th:only-of-type {\n",
       "        vertical-align: middle;\n",
       "    }\n",
       "\n",
       "    .dataframe tbody tr th {\n",
       "        vertical-align: top;\n",
       "    }\n",
       "\n",
       "    .dataframe thead th {\n",
       "        text-align: right;\n",
       "    }\n",
       "</style>\n",
       "<table border=\"1\" class=\"dataframe\">\n",
       "  <thead>\n",
       "    <tr style=\"text-align: right;\">\n",
       "      <th></th>\n",
       "      <th>Review</th>\n",
       "    </tr>\n",
       "  </thead>\n",
       "  <tbody>\n",
       "    <tr>\n",
       "      <th>0</th>\n",
       "      <td>Everything from the weather, staff, food, prop...</td>\n",
       "    </tr>\n",
       "    <tr>\n",
       "      <th>1</th>\n",
       "      <td>We full enjoyed the place, and facilities.</td>\n",
       "    </tr>\n",
       "    <tr>\n",
       "      <th>2</th>\n",
       "      <td>Thanks for the \"\"cidreira\"\" and \"\"madalenas\"\" ...</td>\n",
       "    </tr>\n",
       "    <tr>\n",
       "      <th>3</th>\n",
       "      <td>One dream! Cozy  and comfortable Hotel!  The b...</td>\n",
       "    </tr>\n",
       "    <tr>\n",
       "      <th>4</th>\n",
       "      <td>Hotel concept is hard to grasp. They communica...</td>\n",
       "    </tr>\n",
       "    <tr>\n",
       "      <th>5</th>\n",
       "      <td>This is a wonderful hotel, for a romantic esca...</td>\n",
       "    </tr>\n",
       "    <tr>\n",
       "      <th>6</th>\n",
       "      <td>Gold room fantastic. We loved and we will come...</td>\n",
       "    </tr>\n",
       "    <tr>\n",
       "      <th>7</th>\n",
       "      <td>One of the best Hotels in the world, and in th...</td>\n",
       "    </tr>\n",
       "    <tr>\n",
       "      <th>8</th>\n",
       "      <td>Land Room is wonderful! An amazing place, as ...</td>\n",
       "    </tr>\n",
       "    <tr>\n",
       "      <th>9</th>\n",
       "      <td>One of the greatest meals ever. Everything wa...</td>\n",
       "    </tr>\n",
       "  </tbody>\n",
       "</table>\n",
       "</div>"
      ],
      "text/plain": [
       "                                              Review\n",
       "0  Everything from the weather, staff, food, prop...\n",
       "1         We full enjoyed the place, and facilities.\n",
       "2  Thanks for the \"\"cidreira\"\" and \"\"madalenas\"\" ...\n",
       "3  One dream! Cozy  and comfortable Hotel!  The b...\n",
       "4  Hotel concept is hard to grasp. They communica...\n",
       "5  This is a wonderful hotel, for a romantic esca...\n",
       "6  Gold room fantastic. We loved and we will come...\n",
       "7  One of the best Hotels in the world, and in th...\n",
       "8   Land Room is wonderful! An amazing place, as ...\n",
       "9   One of the greatest meals ever. Everything wa..."
      ]
     },
     "execution_count": 2,
     "metadata": {},
     "output_type": "execute_result"
    }
   ],
   "source": [
    "#read data\n",
    "import pandas as pd\n",
    "import numpy as np\n",
    "\n",
    "df = pd.read_csv('dataset-CalheirosMoroRita-2017.csv',  error_bad_lines=False, engine='python', sep=\"\\t\")\n",
    "df.head(10)"
   ]
  },
  {
   "cell_type": "code",
   "execution_count": 3,
   "metadata": {},
   "outputs": [
    {
     "data": {
      "text/html": [
       "<div>\n",
       "<style scoped>\n",
       "    .dataframe tbody tr th:only-of-type {\n",
       "        vertical-align: middle;\n",
       "    }\n",
       "\n",
       "    .dataframe tbody tr th {\n",
       "        vertical-align: top;\n",
       "    }\n",
       "\n",
       "    .dataframe thead th {\n",
       "        text-align: right;\n",
       "    }\n",
       "</style>\n",
       "<table border=\"1\" class=\"dataframe\">\n",
       "  <thead>\n",
       "    <tr style=\"text-align: right;\">\n",
       "      <th></th>\n",
       "      <th>Review</th>\n",
       "    </tr>\n",
       "  </thead>\n",
       "  <tbody>\n",
       "    <tr>\n",
       "      <th>0</th>\n",
       "      <td>Everything from the weather, staff, food, prop...</td>\n",
       "    </tr>\n",
       "    <tr>\n",
       "      <th>1</th>\n",
       "      <td>We full enjoyed the place, and facilities.</td>\n",
       "    </tr>\n",
       "    <tr>\n",
       "      <th>2</th>\n",
       "      <td>Thanks for the \"\"cidreira\"\" and \"\"madalenas\"\" ...</td>\n",
       "    </tr>\n",
       "    <tr>\n",
       "      <th>3</th>\n",
       "      <td>One dream! Cozy  and comfortable Hotel!  The b...</td>\n",
       "    </tr>\n",
       "    <tr>\n",
       "      <th>4</th>\n",
       "      <td>Hotel concept is hard to grasp. They communica...</td>\n",
       "    </tr>\n",
       "    <tr>\n",
       "      <th>5</th>\n",
       "      <td>This is a wonderful hotel, for a romantic esca...</td>\n",
       "    </tr>\n",
       "    <tr>\n",
       "      <th>6</th>\n",
       "      <td>Gold room fantastic. We loved and we will come...</td>\n",
       "    </tr>\n",
       "    <tr>\n",
       "      <th>7</th>\n",
       "      <td>One of the best Hotels in the world, and in th...</td>\n",
       "    </tr>\n",
       "    <tr>\n",
       "      <th>8</th>\n",
       "      <td>Land Room is wonderful! An amazing place, as ...</td>\n",
       "    </tr>\n",
       "    <tr>\n",
       "      <th>9</th>\n",
       "      <td>One of the greatest meals ever. Everything wa...</td>\n",
       "    </tr>\n",
       "  </tbody>\n",
       "</table>\n",
       "</div>"
      ],
      "text/plain": [
       "                                              Review\n",
       "0  Everything from the weather, staff, food, prop...\n",
       "1         We full enjoyed the place, and facilities.\n",
       "2  Thanks for the \"\"cidreira\"\" and \"\"madalenas\"\" ...\n",
       "3  One dream! Cozy  and comfortable Hotel!  The b...\n",
       "4  Hotel concept is hard to grasp. They communica...\n",
       "5  This is a wonderful hotel, for a romantic esca...\n",
       "6  Gold room fantastic. We loved and we will come...\n",
       "7  One of the best Hotels in the world, and in th...\n",
       "8   Land Room is wonderful! An amazing place, as ...\n",
       "9   One of the greatest meals ever. Everything wa..."
      ]
     },
     "execution_count": 3,
     "metadata": {},
     "output_type": "execute_result"
    }
   ],
   "source": [
    "#clean punctuation\n",
    "df['Review'] = df['Review'].str.replace(r'[^\\w\\s]+\\n', '')\n",
    "df.head(10)"
   ]
  },
  {
   "cell_type": "code",
   "execution_count": 4,
   "metadata": {},
   "outputs": [
    {
     "name": "stdout",
     "output_type": "stream",
     "text": [
      "Review      Everything from the weather, staff, food, prop...\n",
      "shingles    [(and, beach, were, top, notch), (from, the, w...\n",
      "Name: 0, dtype: object\n"
     ]
    }
   ],
   "source": [
    "#shingling \n",
    "shingle_size = 5\n",
    "\n",
    "\n",
    "def shingles(words, n = shingle_size):\n",
    "    return [words[i:i+n] for i in range(len(words) - n + 1) if len(words[i]) < 5]\n",
    "\n",
    "df_shingled = df.copy()\n",
    "df_shingled['Review'] = df.Review.map(lambda x : x.split())\n",
    "df['shingles'] = df_shingled.Review.map(shingles)\n",
    "df['shingles'] = df.shingles.map(lambda shingles : [x for x in set(tuple(x) for x in shingles)])\n",
    "\n",
    "print(df.iloc[0])"
   ]
  },
  {
   "cell_type": "code",
   "execution_count": 5,
   "metadata": {},
   "outputs": [
    {
     "data": {
      "text/html": [
       "<div>\n",
       "<style scoped>\n",
       "    .dataframe tbody tr th:only-of-type {\n",
       "        vertical-align: middle;\n",
       "    }\n",
       "\n",
       "    .dataframe tbody tr th {\n",
       "        vertical-align: top;\n",
       "    }\n",
       "\n",
       "    .dataframe thead th {\n",
       "        text-align: right;\n",
       "    }\n",
       "</style>\n",
       "<table border=\"1\" class=\"dataframe\">\n",
       "  <thead>\n",
       "    <tr style=\"text-align: right;\">\n",
       "      <th></th>\n",
       "      <th>Review</th>\n",
       "      <th>shingles</th>\n",
       "      <th>hashes</th>\n",
       "    </tr>\n",
       "  </thead>\n",
       "  <tbody>\n",
       "    <tr>\n",
       "      <th>0</th>\n",
       "      <td>Everything from the weather, staff, food, prop...</td>\n",
       "      <td>[(and, beach, were, top, notch), (from, the, w...</td>\n",
       "      <td>[2904611771, 791644852, 3029275621, 4254103425...</td>\n",
       "    </tr>\n",
       "    <tr>\n",
       "      <th>1</th>\n",
       "      <td>We full enjoyed the place, and facilities.</td>\n",
       "      <td>[(We, full, enjoyed, the, place,), (full, enjo...</td>\n",
       "      <td>[2635458344, 1813270520]</td>\n",
       "    </tr>\n",
       "    <tr>\n",
       "      <th>2</th>\n",
       "      <td>Thanks for the \"\"cidreira\"\" and \"\"madalenas\"\" ...</td>\n",
       "      <td>[(for, the, \"\"cidreira\"\", and, \"\"madalenas\"\"),...</td>\n",
       "      <td>[3444279829, 2888105924, 2008101651]</td>\n",
       "    </tr>\n",
       "    <tr>\n",
       "      <th>3</th>\n",
       "      <td>One dream! Cozy  and comfortable Hotel!  The b...</td>\n",
       "      <td>[(were, received, in, the, fire), (have, glute...</td>\n",
       "      <td>[3809192752, 1872724818, 3649858269, 102701028...</td>\n",
       "    </tr>\n",
       "    <tr>\n",
       "      <th>4</th>\n",
       "      <td>Hotel concept is hard to grasp. They communica...</td>\n",
       "      <td>[(is, hard, to, grasp., They), (was, ok,, but,...</td>\n",
       "      <td>[2972139538, 3843584761, 3946819817, 346379532...</td>\n",
       "    </tr>\n",
       "  </tbody>\n",
       "</table>\n",
       "</div>"
      ],
      "text/plain": [
       "                                              Review  \\\n",
       "0  Everything from the weather, staff, food, prop...   \n",
       "1         We full enjoyed the place, and facilities.   \n",
       "2  Thanks for the \"\"cidreira\"\" and \"\"madalenas\"\" ...   \n",
       "3  One dream! Cozy  and comfortable Hotel!  The b...   \n",
       "4  Hotel concept is hard to grasp. They communica...   \n",
       "\n",
       "                                            shingles  \\\n",
       "0  [(and, beach, were, top, notch), (from, the, w...   \n",
       "1  [(We, full, enjoyed, the, place,), (full, enjo...   \n",
       "2  [(for, the, \"\"cidreira\"\", and, \"\"madalenas\"\"),...   \n",
       "3  [(were, received, in, the, fire), (have, glute...   \n",
       "4  [(is, hard, to, grasp., They), (was, ok,, but,...   \n",
       "\n",
       "                                              hashes  \n",
       "0  [2904611771, 791644852, 3029275621, 4254103425...  \n",
       "1                           [2635458344, 1813270520]  \n",
       "2               [3444279829, 2888105924, 2008101651]  \n",
       "3  [3809192752, 1872724818, 3649858269, 102701028...  \n",
       "4  [2972139538, 3843584761, 3946819817, 346379532...  "
      ]
     },
     "execution_count": 5,
     "metadata": {},
     "output_type": "execute_result"
    }
   ],
   "source": [
    "#hashing\n",
    "import binascii\n",
    "def s_hash(shingle):\n",
    "    return binascii.crc32(shingle) & 0xffffffff\n",
    "df['hashes'] = df.shingles.map(lambda shingles: [s_hash((\" \".join(word for word in shingle)).encode()) for shingle in shingles])\n",
    "\n",
    "df.head(5)"
   ]
  },
  {
   "cell_type": "code",
   "execution_count": 43,
   "metadata": {},
   "outputs": [
    {
     "name": "stdout",
     "output_type": "stream",
     "text": [
      "coefficient array created\n"
     ]
    }
   ],
   "source": [
    "#minhash signatures\n",
    "import time\n",
    "import random\n",
    "\n",
    "t0 = time.time()\n",
    "max_shingle_id = 2**32-1\n",
    "big_prime = 4294967311\n",
    "\n",
    "\n",
    "\n",
    "def rand_coefficients(k):\n",
    "    \n",
    "    rand_coeff = []\n",
    "        \n",
    "    while k > 0:\n",
    "        randIndex = random.randint(0, max_shingle_id) \n",
    "\n",
    "        while randIndex in rand_coeff:\n",
    "                randIndex = random.randint(0, max_shingle_id) \n",
    "\n",
    "        rand_coeff.append(randIndex)\n",
    "        k = k - 1\n",
    "    return rand_coeff\n",
    "\n",
    "numhashes = df.hashes.map(lambda x: len(x)).sum()\n",
    "\n",
    "coeff1 = rand_coefficients(numhashes)\n",
    "coeff2 = rand_coefficients(numhashes)\n",
    "\n",
    "print(\"coefficient array created\")"
   ]
  },
  {
   "cell_type": "code",
   "execution_count": 64,
   "metadata": {},
   "outputs": [
    {
     "ename": "ValueError",
     "evalue": "min() arg is an empty sequence",
     "output_type": "error",
     "traceback": [
      "\u001b[1;31m---------------------------------------------------------------------------\u001b[0m",
      "\u001b[1;31mValueError\u001b[0m                                Traceback (most recent call last)",
      "\u001b[1;32m<ipython-input-64-8b2ae0698937>\u001b[0m in \u001b[0;36m<module>\u001b[1;34m()\u001b[0m\n\u001b[0;32m      5\u001b[0m     \u001b[1;31m#minHashCode = big_prime + 1\u001b[0m\u001b[1;33m\u001b[0m\u001b[1;33m\u001b[0m\u001b[0m\n\u001b[0;32m      6\u001b[0m     \u001b[0mdf\u001b[0m\u001b[1;33m[\u001b[0m\u001b[1;34m\"signatures\"\u001b[0m\u001b[1;33m]\u001b[0m \u001b[1;33m=\u001b[0m \u001b[0mdf\u001b[0m\u001b[1;33m.\u001b[0m\u001b[0mhashes\u001b[0m\u001b[1;33m.\u001b[0m\u001b[0mmap\u001b[0m\u001b[1;33m(\u001b[0m\u001b[1;32mlambda\u001b[0m \u001b[0mhashes\u001b[0m\u001b[1;33m:\u001b[0m \u001b[1;33m[\u001b[0m\u001b[1;33m(\u001b[0m\u001b[1;33m(\u001b[0m\u001b[0mcoeff1\u001b[0m\u001b[1;33m[\u001b[0m\u001b[0mi\u001b[0m\u001b[1;33m]\u001b[0m \u001b[1;33m*\u001b[0m \u001b[0mh\u001b[0m \u001b[1;33m+\u001b[0m \u001b[0mcoeff2\u001b[0m\u001b[1;33m[\u001b[0m\u001b[0mi\u001b[0m\u001b[1;33m]\u001b[0m\u001b[1;33m)\u001b[0m \u001b[1;33m%\u001b[0m \u001b[0mbig_prime\u001b[0m\u001b[1;33m)\u001b[0m \u001b[1;32mfor\u001b[0m \u001b[0mh\u001b[0m \u001b[1;32min\u001b[0m \u001b[0mhashes\u001b[0m\u001b[1;33m]\u001b[0m\u001b[1;33m)\u001b[0m\u001b[1;33m\u001b[0m\u001b[0m\n\u001b[1;32m----> 7\u001b[1;33m     \u001b[0mdf\u001b[0m\u001b[1;33m[\u001b[0m\u001b[1;34m\"MinHash\"\u001b[0m\u001b[1;33m]\u001b[0m \u001b[1;33m=\u001b[0m \u001b[1;33m[\u001b[0m\u001b[0mmin\u001b[0m\u001b[1;33m(\u001b[0m\u001b[0msig\u001b[0m\u001b[1;33m)\u001b[0m \u001b[1;32mfor\u001b[0m \u001b[0msig\u001b[0m \u001b[1;32min\u001b[0m \u001b[0mdf\u001b[0m\u001b[1;33m.\u001b[0m\u001b[0msignatures\u001b[0m\u001b[1;33m.\u001b[0m\u001b[0mtolist\u001b[0m\u001b[1;33m(\u001b[0m\u001b[1;33m)\u001b[0m\u001b[1;33m]\u001b[0m\u001b[1;33m\u001b[0m\u001b[0m\n\u001b[0m\u001b[0;32m      8\u001b[0m \u001b[1;33m\u001b[0m\u001b[0m\n\u001b[0;32m      9\u001b[0m \u001b[0mdf\u001b[0m\u001b[1;33m\u001b[0m\u001b[0m\n",
      "\u001b[1;32m<ipython-input-64-8b2ae0698937>\u001b[0m in \u001b[0;36m<listcomp>\u001b[1;34m(.0)\u001b[0m\n\u001b[0;32m      5\u001b[0m     \u001b[1;31m#minHashCode = big_prime + 1\u001b[0m\u001b[1;33m\u001b[0m\u001b[1;33m\u001b[0m\u001b[0m\n\u001b[0;32m      6\u001b[0m     \u001b[0mdf\u001b[0m\u001b[1;33m[\u001b[0m\u001b[1;34m\"signatures\"\u001b[0m\u001b[1;33m]\u001b[0m \u001b[1;33m=\u001b[0m \u001b[0mdf\u001b[0m\u001b[1;33m.\u001b[0m\u001b[0mhashes\u001b[0m\u001b[1;33m.\u001b[0m\u001b[0mmap\u001b[0m\u001b[1;33m(\u001b[0m\u001b[1;32mlambda\u001b[0m \u001b[0mhashes\u001b[0m\u001b[1;33m:\u001b[0m \u001b[1;33m[\u001b[0m\u001b[1;33m(\u001b[0m\u001b[1;33m(\u001b[0m\u001b[0mcoeff1\u001b[0m\u001b[1;33m[\u001b[0m\u001b[0mi\u001b[0m\u001b[1;33m]\u001b[0m \u001b[1;33m*\u001b[0m \u001b[0mh\u001b[0m \u001b[1;33m+\u001b[0m \u001b[0mcoeff2\u001b[0m\u001b[1;33m[\u001b[0m\u001b[0mi\u001b[0m\u001b[1;33m]\u001b[0m\u001b[1;33m)\u001b[0m \u001b[1;33m%\u001b[0m \u001b[0mbig_prime\u001b[0m\u001b[1;33m)\u001b[0m \u001b[1;32mfor\u001b[0m \u001b[0mh\u001b[0m \u001b[1;32min\u001b[0m \u001b[0mhashes\u001b[0m\u001b[1;33m]\u001b[0m\u001b[1;33m)\u001b[0m\u001b[1;33m\u001b[0m\u001b[0m\n\u001b[1;32m----> 7\u001b[1;33m     \u001b[0mdf\u001b[0m\u001b[1;33m[\u001b[0m\u001b[1;34m\"MinHash\"\u001b[0m\u001b[1;33m]\u001b[0m \u001b[1;33m=\u001b[0m \u001b[1;33m[\u001b[0m\u001b[0mmin\u001b[0m\u001b[1;33m(\u001b[0m\u001b[0msig\u001b[0m\u001b[1;33m)\u001b[0m \u001b[1;32mfor\u001b[0m \u001b[0msig\u001b[0m \u001b[1;32min\u001b[0m \u001b[0mdf\u001b[0m\u001b[1;33m.\u001b[0m\u001b[0msignatures\u001b[0m\u001b[1;33m.\u001b[0m\u001b[0mtolist\u001b[0m\u001b[1;33m(\u001b[0m\u001b[1;33m)\u001b[0m\u001b[1;33m]\u001b[0m\u001b[1;33m\u001b[0m\u001b[0m\n\u001b[0m\u001b[0;32m      8\u001b[0m \u001b[1;33m\u001b[0m\u001b[0m\n\u001b[0;32m      9\u001b[0m \u001b[0mdf\u001b[0m\u001b[1;33m\u001b[0m\u001b[0m\n",
      "\u001b[1;31mValueError\u001b[0m: min() arg is an empty sequence"
     ]
    }
   ],
   "source": [
    "#loop over hash functions\n",
    "\n",
    "for i in range(0, 1):\n",
    "    \n",
    "    #minHashCode = big_prime + 1\n",
    "    df[\"signatures\"] = df.hashes.map(lambda hashes: [((coeff1[i] * h + coeff2[i]) % big_prime) for h in hashes])\n",
    "    df[\"MinHash\"] = [min(sig) for sig in df.signatures.tolist()]\n",
    "\n",
    "df\n"
   ]
  },
  {
   "cell_type": "code",
   "execution_count": null,
   "metadata": {},
   "outputs": [],
   "source": []
  }
 ],
 "metadata": {
  "kernelspec": {
   "display_name": "Python 3",
   "language": "python",
   "name": "python3"
  },
  "language_info": {
   "codemirror_mode": {
    "name": "ipython",
    "version": 3
   },
   "file_extension": ".py",
   "mimetype": "text/x-python",
   "name": "python",
   "nbconvert_exporter": "python",
   "pygments_lexer": "ipython3",
   "version": "3.6.5"
  }
 },
 "nbformat": 4,
 "nbformat_minor": 2
}
