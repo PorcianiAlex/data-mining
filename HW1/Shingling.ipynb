{
 "cells": [
  {
   "cell_type": "code",
   "execution_count": 1,
   "metadata": {},
   "outputs": [],
   "source": [
    "# dev/python3\n"
   ]
  },
  {
   "cell_type": "markdown",
   "metadata": {},
   "source": [
    "A class Shingling that constructs k–shingles of a given length k (e.g., 10) from a given document, computes a hash value for each unique shingle, and represents the document in the form of an ordered set of its hashed k-shingles.\n",
    "\n",
    "A class CompareSets that computes the Jaccard similarity of two sets of integers – two sets of hashed shingles.\n",
    "\n",
    "A class MinHashing that builds a minHash signature (in the form of a vector or a set) of a given length n from a given set of integers (a set of hashed shingles).\n",
    "\n",
    "A class CompareSignatures that estimates similarity of two integer vectors – minhash signatures – as a fraction of components, in which they agree.\n",
    "\n",
    "(Optional task for extra 2 bonus) A class LSH that implements the LSH technique: given a collection of minhash signatures (integer vectors) and a similarity threshold t, the LSH class (using banding and hashing) finds all candidate pairs of signatures that agree on at least fraction t of their components."
   ]
  },
  {
   "cell_type": "code",
   "execution_count": 180,
   "metadata": {},
   "outputs": [
    {
     "name": "stderr",
     "output_type": "stream",
     "text": [
      "Skipping line 3: '\t' expected after '\"'\n"
     ]
    },
    {
     "data": {
      "text/html": [
       "<div>\n",
       "<style>\n",
       "    .dataframe thead tr:only-child th {\n",
       "        text-align: right;\n",
       "    }\n",
       "\n",
       "    .dataframe thead th {\n",
       "        text-align: left;\n",
       "    }\n",
       "\n",
       "    .dataframe tbody tr th {\n",
       "        vertical-align: top;\n",
       "    }\n",
       "</style>\n",
       "<table border=\"1\" class=\"dataframe\">\n",
       "  <thead>\n",
       "    <tr style=\"text-align: right;\">\n",
       "      <th></th>\n",
       "      <th>Review</th>\n",
       "    </tr>\n",
       "  </thead>\n",
       "  <tbody>\n",
       "    <tr>\n",
       "      <th>0</th>\n",
       "      <td>Everything from the weather, staff, food, prop...</td>\n",
       "    </tr>\n",
       "    <tr>\n",
       "      <th>1</th>\n",
       "      <td>We full enjoyed the place, and facilities.</td>\n",
       "    </tr>\n",
       "    <tr>\n",
       "      <th>2</th>\n",
       "      <td>Thanks for the \"\"cidreira\"\" and \"\"madalenas\"\" ...</td>\n",
       "    </tr>\n",
       "    <tr>\n",
       "      <th>3</th>\n",
       "      <td>One dream! Cozy  and comfortable Hotel!  The b...</td>\n",
       "    </tr>\n",
       "    <tr>\n",
       "      <th>4</th>\n",
       "      <td>Hotel concept is hard to grasp. They communica...</td>\n",
       "    </tr>\n",
       "    <tr>\n",
       "      <th>5</th>\n",
       "      <td>This is a wonderful hotel, for a romantic esca...</td>\n",
       "    </tr>\n",
       "    <tr>\n",
       "      <th>6</th>\n",
       "      <td>Gold room fantastic. We loved and we will come...</td>\n",
       "    </tr>\n",
       "    <tr>\n",
       "      <th>7</th>\n",
       "      <td>One of the best Hotels in the world, and in th...</td>\n",
       "    </tr>\n",
       "    <tr>\n",
       "      <th>8</th>\n",
       "      <td>Land Room is wonderful! An amazing place, as ...</td>\n",
       "    </tr>\n",
       "    <tr>\n",
       "      <th>9</th>\n",
       "      <td>One of the greatest meals ever. Everything wa...</td>\n",
       "    </tr>\n",
       "  </tbody>\n",
       "</table>\n",
       "</div>"
      ],
      "text/plain": [
       "                                              Review\n",
       "0  Everything from the weather, staff, food, prop...\n",
       "1         We full enjoyed the place, and facilities.\n",
       "2  Thanks for the \"\"cidreira\"\" and \"\"madalenas\"\" ...\n",
       "3  One dream! Cozy  and comfortable Hotel!  The b...\n",
       "4  Hotel concept is hard to grasp. They communica...\n",
       "5  This is a wonderful hotel, for a romantic esca...\n",
       "6  Gold room fantastic. We loved and we will come...\n",
       "7  One of the best Hotels in the world, and in th...\n",
       "8   Land Room is wonderful! An amazing place, as ...\n",
       "9   One of the greatest meals ever. Everything wa..."
      ]
     },
     "execution_count": 180,
     "metadata": {},
     "output_type": "execute_result"
    }
   ],
   "source": [
    "#read data\n",
    "import pandas as pd\n",
    "import numpy as np\n",
    "\n",
    "df = pd.read_csv('dataset-CalheirosMoroRita-2017.csv',  error_bad_lines=False, engine='python', sep=\"\\t\")\n",
    "df.head(10)"
   ]
  },
  {
   "cell_type": "code",
   "execution_count": 181,
   "metadata": {},
   "outputs": [
    {
     "data": {
      "text/html": [
       "<div>\n",
       "<style>\n",
       "    .dataframe thead tr:only-child th {\n",
       "        text-align: right;\n",
       "    }\n",
       "\n",
       "    .dataframe thead th {\n",
       "        text-align: left;\n",
       "    }\n",
       "\n",
       "    .dataframe tbody tr th {\n",
       "        vertical-align: top;\n",
       "    }\n",
       "</style>\n",
       "<table border=\"1\" class=\"dataframe\">\n",
       "  <thead>\n",
       "    <tr style=\"text-align: right;\">\n",
       "      <th></th>\n",
       "      <th>Review</th>\n",
       "    </tr>\n",
       "  </thead>\n",
       "  <tbody>\n",
       "    <tr>\n",
       "      <th>0</th>\n",
       "      <td>Everything from the weather, staff, food, prop...</td>\n",
       "    </tr>\n",
       "    <tr>\n",
       "      <th>1</th>\n",
       "      <td>We full enjoyed the place, and facilities.</td>\n",
       "    </tr>\n",
       "    <tr>\n",
       "      <th>2</th>\n",
       "      <td>Thanks for the \"\"cidreira\"\" and \"\"madalenas\"\" ...</td>\n",
       "    </tr>\n",
       "    <tr>\n",
       "      <th>3</th>\n",
       "      <td>One dream! Cozy  and comfortable Hotel!  The b...</td>\n",
       "    </tr>\n",
       "    <tr>\n",
       "      <th>4</th>\n",
       "      <td>Hotel concept is hard to grasp. They communica...</td>\n",
       "    </tr>\n",
       "    <tr>\n",
       "      <th>5</th>\n",
       "      <td>This is a wonderful hotel, for a romantic esca...</td>\n",
       "    </tr>\n",
       "    <tr>\n",
       "      <th>6</th>\n",
       "      <td>Gold room fantastic. We loved and we will come...</td>\n",
       "    </tr>\n",
       "    <tr>\n",
       "      <th>7</th>\n",
       "      <td>One of the best Hotels in the world, and in th...</td>\n",
       "    </tr>\n",
       "    <tr>\n",
       "      <th>8</th>\n",
       "      <td>Land Room is wonderful! An amazing place, as ...</td>\n",
       "    </tr>\n",
       "    <tr>\n",
       "      <th>9</th>\n",
       "      <td>One of the greatest meals ever. Everything wa...</td>\n",
       "    </tr>\n",
       "  </tbody>\n",
       "</table>\n",
       "</div>"
      ],
      "text/plain": [
       "                                              Review\n",
       "0  Everything from the weather, staff, food, prop...\n",
       "1         We full enjoyed the place, and facilities.\n",
       "2  Thanks for the \"\"cidreira\"\" and \"\"madalenas\"\" ...\n",
       "3  One dream! Cozy  and comfortable Hotel!  The b...\n",
       "4  Hotel concept is hard to grasp. They communica...\n",
       "5  This is a wonderful hotel, for a romantic esca...\n",
       "6  Gold room fantastic. We loved and we will come...\n",
       "7  One of the best Hotels in the world, and in th...\n",
       "8   Land Room is wonderful! An amazing place, as ...\n",
       "9   One of the greatest meals ever. Everything wa..."
      ]
     },
     "execution_count": 181,
     "metadata": {},
     "output_type": "execute_result"
    }
   ],
   "source": [
    "#clean punctuation\n",
    "df['Review'] = df['Review'].str.replace(r'[^\\w\\s]+\\n', '')\n",
    "df.head(10)"
   ]
  },
  {
   "cell_type": "code",
   "execution_count": 182,
   "metadata": {},
   "outputs": [
    {
     "name": "stdout",
     "output_type": "stream",
     "text": [
      "Review      Everything from the weather, staff, food, prop...\n",
      "shingles    [(fire, pits,, d�cor,, spa,, rooms), (and, bea...\n",
      "Name: 0, dtype: object\n"
     ]
    }
   ],
   "source": [
    "#shingling \n",
    "shingle_size = 5\n",
    "\n",
    "\n",
    "def shingles(words, n = shingle_size):\n",
    "    return [words[i:i+n] for i in range(len(words) - n + 1) if len(words[i]) < 5]\n",
    "\n",
    "df_shingled = df.copy()\n",
    "df_shingled['Review'] = df.Review.map(lambda x : x.split())\n",
    "df['shingles'] = df_shingled.Review.map(shingles)\n",
    "df['shingles'] = df.shingles.map(lambda shingles : [x for x in set(tuple(x) for x in shingles)])\n",
    "\n",
    "print(df.iloc[0])"
   ]
  },
  {
   "cell_type": "code",
   "execution_count": 183,
   "metadata": {
    "scrolled": true
   },
   "outputs": [
    {
     "data": {
      "text/html": [
       "<div>\n",
       "<style>\n",
       "    .dataframe thead tr:only-child th {\n",
       "        text-align: right;\n",
       "    }\n",
       "\n",
       "    .dataframe thead th {\n",
       "        text-align: left;\n",
       "    }\n",
       "\n",
       "    .dataframe tbody tr th {\n",
       "        vertical-align: top;\n",
       "    }\n",
       "</style>\n",
       "<table border=\"1\" class=\"dataframe\">\n",
       "  <thead>\n",
       "    <tr style=\"text-align: right;\">\n",
       "      <th></th>\n",
       "      <th>Review</th>\n",
       "      <th>shingles</th>\n",
       "      <th>hashes</th>\n",
       "    </tr>\n",
       "  </thead>\n",
       "  <tbody>\n",
       "    <tr>\n",
       "      <th>0</th>\n",
       "      <td>Everything from the weather, staff, food, prop...</td>\n",
       "      <td>[(fire, pits,, d�cor,, spa,, rooms), (and, bea...</td>\n",
       "      <td>[652608298, 2904611771, 791644852, 4254103425,...</td>\n",
       "    </tr>\n",
       "    <tr>\n",
       "      <th>1</th>\n",
       "      <td>We full enjoyed the place, and facilities.</td>\n",
       "      <td>[(full, enjoyed, the, place,, and), (We, full,...</td>\n",
       "      <td>[1813270520, 2635458344]</td>\n",
       "    </tr>\n",
       "    <tr>\n",
       "      <th>2</th>\n",
       "      <td>Thanks for the \"\"cidreira\"\" and \"\"madalenas\"\" ...</td>\n",
       "      <td>[(the, \"\"cidreira\"\", and, \"\"madalenas\"\", tea),...</td>\n",
       "      <td>[2008101651, 2888105924, 3444279829]</td>\n",
       "    </tr>\n",
       "    <tr>\n",
       "      <th>3</th>\n",
       "      <td>One dream! Cozy  and comfortable Hotel!  The b...</td>\n",
       "      <td>[(nice, taste,, since, reception, to), (and, a...</td>\n",
       "      <td>[637340696, 330661309, 2930962835, 2284279399,...</td>\n",
       "    </tr>\n",
       "    <tr>\n",
       "      <th>4</th>\n",
       "      <td>Hotel concept is hard to grasp. They communica...</td>\n",
       "      <td>[(was, ok,, but, you, can), (hard, to, grasp.,...</td>\n",
       "      <td>[3843584761, 2313336057, 879391637, 3552347679...</td>\n",
       "    </tr>\n",
       "  </tbody>\n",
       "</table>\n",
       "</div>"
      ],
      "text/plain": [
       "                                              Review  \\\n",
       "0  Everything from the weather, staff, food, prop...   \n",
       "1         We full enjoyed the place, and facilities.   \n",
       "2  Thanks for the \"\"cidreira\"\" and \"\"madalenas\"\" ...   \n",
       "3  One dream! Cozy  and comfortable Hotel!  The b...   \n",
       "4  Hotel concept is hard to grasp. They communica...   \n",
       "\n",
       "                                            shingles  \\\n",
       "0  [(fire, pits,, d�cor,, spa,, rooms), (and, bea...   \n",
       "1  [(full, enjoyed, the, place,, and), (We, full,...   \n",
       "2  [(the, \"\"cidreira\"\", and, \"\"madalenas\"\", tea),...   \n",
       "3  [(nice, taste,, since, reception, to), (and, a...   \n",
       "4  [(was, ok,, but, you, can), (hard, to, grasp.,...   \n",
       "\n",
       "                                              hashes  \n",
       "0  [652608298, 2904611771, 791644852, 4254103425,...  \n",
       "1                           [1813270520, 2635458344]  \n",
       "2               [2008101651, 2888105924, 3444279829]  \n",
       "3  [637340696, 330661309, 2930962835, 2284279399,...  \n",
       "4  [3843584761, 2313336057, 879391637, 3552347679...  "
      ]
     },
     "execution_count": 183,
     "metadata": {},
     "output_type": "execute_result"
    }
   ],
   "source": [
    "#hashing\n",
    "import binascii\n",
    "def s_hash(shingle):\n",
    "    return binascii.crc32(shingle) & 0xffffffff\n",
    "\n",
    "df['hashes'] = df.shingles.map(lambda shingles: [s_hash((\" \".join(word for word in shingle)).encode()) for shingle in shingles])\n",
    "\n",
    "df.head(5)"
   ]
  },
  {
   "cell_type": "code",
   "execution_count": 185,
   "metadata": {},
   "outputs": [
    {
     "ename": "KeyboardInterrupt",
     "evalue": "",
     "output_type": "error",
     "traceback": [
      "\u001b[0;31m---------------------------------------------------------------------------\u001b[0m",
      "\u001b[0;31mKeyboardInterrupt\u001b[0m                         Traceback (most recent call last)",
      "\u001b[0;32m<ipython-input-185-757a3985e39e>\u001b[0m in \u001b[0;36m<module>\u001b[0;34m()\u001b[0m\n\u001b[1;32m     19\u001b[0m \u001b[0;34m\u001b[0m\u001b[0m\n\u001b[1;32m     20\u001b[0m \u001b[0;34m\u001b[0m\u001b[0m\n\u001b[0;32m---> 21\u001b[0;31m \u001b[0mcoeff1\u001b[0m \u001b[0;34m=\u001b[0m \u001b[0mrand_coefficients\u001b[0m\u001b[0;34m(\u001b[0m\u001b[0mnumhashes\u001b[0m\u001b[0;34m)\u001b[0m\u001b[0;34m\u001b[0m\u001b[0m\n\u001b[0m\u001b[1;32m     22\u001b[0m \u001b[0;31m# coeff2 = rand_coefficients(numhashes)\u001b[0m\u001b[0;34m\u001b[0m\u001b[0;34m\u001b[0m\u001b[0m\n\u001b[1;32m     23\u001b[0m \u001b[0;34m\u001b[0m\u001b[0m\n",
      "\u001b[0;32m<ipython-input-185-757a3985e39e>\u001b[0m in \u001b[0;36mrand_coefficients\u001b[0;34m(k)\u001b[0m\n\u001b[1;32m      7\u001b[0m     \u001b[0mrand_coeff\u001b[0m \u001b[0;34m=\u001b[0m \u001b[0;34m[\u001b[0m\u001b[0;34m]\u001b[0m\u001b[0;34m\u001b[0m\u001b[0m\n\u001b[1;32m      8\u001b[0m     \u001b[0;32mwhile\u001b[0m \u001b[0mk\u001b[0m \u001b[0;34m>\u001b[0m \u001b[0;36m0\u001b[0m\u001b[0;34m:\u001b[0m\u001b[0;34m\u001b[0m\u001b[0m\n\u001b[0;32m----> 9\u001b[0;31m         \u001b[0mrandIndex\u001b[0m \u001b[0;34m=\u001b[0m \u001b[0mrandom\u001b[0m\u001b[0;34m.\u001b[0m\u001b[0mrandint\u001b[0m\u001b[0;34m(\u001b[0m\u001b[0;36m0\u001b[0m\u001b[0;34m,\u001b[0m \u001b[0mmax_shingle_id\u001b[0m\u001b[0;34m)\u001b[0m\u001b[0;34m\u001b[0m\u001b[0m\n\u001b[0m\u001b[1;32m     10\u001b[0m \u001b[0;34m\u001b[0m\u001b[0m\n\u001b[1;32m     11\u001b[0m     \u001b[0;32mwhile\u001b[0m \u001b[0mrandIndex\u001b[0m \u001b[0;32min\u001b[0m \u001b[0mrandList\u001b[0m\u001b[0;34m:\u001b[0m\u001b[0;34m\u001b[0m\u001b[0m\n",
      "\u001b[0;32m/usr/local/Cellar/python/3.6.4_4/Frameworks/Python.framework/Versions/3.6/lib/python3.6/random.py\u001b[0m in \u001b[0;36mrandint\u001b[0;34m(self, a, b)\u001b[0m\n\u001b[1;32m    219\u001b[0m         \"\"\"\n\u001b[1;32m    220\u001b[0m \u001b[0;34m\u001b[0m\u001b[0m\n\u001b[0;32m--> 221\u001b[0;31m         \u001b[0;32mreturn\u001b[0m \u001b[0mself\u001b[0m\u001b[0;34m.\u001b[0m\u001b[0mrandrange\u001b[0m\u001b[0;34m(\u001b[0m\u001b[0ma\u001b[0m\u001b[0;34m,\u001b[0m \u001b[0mb\u001b[0m\u001b[0;34m+\u001b[0m\u001b[0;36m1\u001b[0m\u001b[0;34m)\u001b[0m\u001b[0;34m\u001b[0m\u001b[0m\n\u001b[0m\u001b[1;32m    222\u001b[0m \u001b[0;34m\u001b[0m\u001b[0m\n\u001b[1;32m    223\u001b[0m     def _randbelow(self, n, int=int, maxsize=1<<BPF, type=type,\n",
      "\u001b[0;31mKeyboardInterrupt\u001b[0m: "
     ]
    }
   ],
   "source": [
    "#minhash signatures\n",
    "import random\n",
    "max_shingle_id = 2**32-1\n",
    "big_prime = 4294967311\n",
    "\n",
    "def rand_coefficients(k):\n",
    "    rand_coeff = []\n",
    "    while k > 0:\n",
    "        randIndex = random.randint(0, max_shingle_id) \n",
    "\n",
    "    while randIndex in randList:\n",
    "          randIndex = random.randint(0, max_shingle_id) \n",
    "\n",
    "    randList.append(randIndex)\n",
    "    k = k - 1\n",
    "    return rand_coeff\n",
    "\n",
    "numhashes = df.hashes.map(lambda x: len(x)).sum()\n",
    "\n",
    "\n",
    "coeff1 = rand_coefficients(numhashes)\n",
    "# coeff2 = rand_coefficients(numhashes)\n",
    "\n",
    "\n",
    "\n",
    "\n",
    "\n"
   ]
  },
  {
   "cell_type": "code",
   "execution_count": null,
   "metadata": {},
   "outputs": [],
   "source": []
  }
 ],
 "metadata": {
  "kernelspec": {
   "display_name": "Python 3",
   "language": "python",
   "name": "python3"
  },
  "language_info": {
   "codemirror_mode": {
    "name": "ipython",
    "version": 3
   },
   "file_extension": ".py",
   "mimetype": "text/x-python",
   "name": "python",
   "nbconvert_exporter": "python",
   "pygments_lexer": "ipython3",
   "version": "3.6.4"
  }
 },
 "nbformat": 4,
 "nbformat_minor": 2
}
